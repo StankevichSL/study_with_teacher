{
 "cells": [
  {
   "cell_type": "markdown",
   "metadata": {},
   "source": [
    "# Выбор локации для скважины"
   ]
  },
  {
   "cell_type": "markdown",
   "metadata": {},
   "source": [
    "Допустим, вы работаете в добывающей компании «ГлавРосГосНефть». Нужно решить, где бурить новую скважину.\n",
    "\n",
    "Вам предоставлены пробы нефти в трёх регионах: в каждом 10 000 месторождений, где измерили качество нефти и объём её запасов. Постройте модель машинного обучения, которая поможет определить регион, где добыча принесёт наибольшую прибыль. Проанализируйте возможную прибыль и риски техникой *Bootstrap.*\n",
    "\n",
    "Шаги для выбора локации:\n",
    "\n",
    "- В избранном регионе ищут месторождения, для каждого определяют значения признаков;\n",
    "- Строят модель и оценивают объём запасов;\n",
    "- Выбирают месторождения с самым высокими оценками значений. Количество месторождений зависит от бюджета компании и стоимости разработки одной скважины;\n",
    "- Прибыль равна суммарной прибыли отобранных месторождений."
   ]
  },
  {
   "cell_type": "markdown",
   "metadata": {},
   "source": [
    "## Загрузка и подготовка данных"
   ]
  },
  {
   "cell_type": "markdown",
   "metadata": {},
   "source": [
    "### Подключение библиотек"
   ]
  },
  {
   "cell_type": "code",
   "execution_count": 1,
   "metadata": {},
   "outputs": [],
   "source": [
    "! pip install phik -q\n",
    "#! pip install shap -q\n",
    "#! pip install scikit-learn==1.2.2 -q"
   ]
  },
  {
   "cell_type": "code",
   "execution_count": 2,
   "metadata": {},
   "outputs": [],
   "source": [
    "import matplotlib.pyplot as plt\n",
    "import numpy as np\n",
    "import pandas as pd\n",
    "import seaborn as sns\n",
    "\n",
    "from phik import phik_matrix\n",
    "from phik.report import plot_correlation_matrix\n",
    "\n",
    "from sklearn.model_selection import train_test_split\n",
    "from sklearn.linear_model import LinearRegression\n",
    "from sklearn.metrics import mean_squared_error\n",
    "from sklearn.preprocessing import StandardScaler\n",
    "from sklearn.utils import shuffle\n",
    "\n",
    "import warnings\n",
    "warnings.filterwarnings('ignore')\n",
    "\n",
    "RANDOM_STATE = np.random.RandomState(12345)"
   ]
  },
  {
   "cell_type": "markdown",
   "metadata": {},
   "source": [
    "### Функции вывода графиков"
   ]
  },
  {
   "cell_type": "code",
   "execution_count": 3,
   "metadata": {},
   "outputs": [],
   "source": [
    "def plots_hist_box(df):\n",
    "    numeric_cols = df.select_dtypes(include=['number']).columns\n",
    "\n",
    "    num_plots = len(numeric_cols)\n",
    "    plt.figure(figsize=(15, 5*num_plots))\n",
    "    \n",
    "    for i, col in enumerate(numeric_cols):\n",
    "        plt.subplot(num_plots, 2, 2*i + 1)\n",
    "        if len(df[col].unique()) > 15:\n",
    "            df[col].hist(bins=15)\n",
    "        else:\n",
    "            sns.countplot(df[col])\n",
    "        plt.title(f'Распределение {col}')\n",
    "        plt.xlabel(col)\n",
    "        plt.ylabel('Количество значений')\n",
    "\n",
    "        plt.subplot(num_plots, 2, 2*i + 2)\n",
    "        df.boxplot(column=col)\n",
    "        plt.title(f'Распределение {col}')\n",
    "\n",
    "    plt.tight_layout()\n",
    "    plt.show()\n",
    "    \n",
    "def plots_pie(df):\n",
    "    categorical_cols = df.select_dtypes(exclude=['number']).columns\n",
    "\n",
    "    num_plots = len(categorical_cols)\n",
    "    plt.figure(figsize=(12, 5 * num_plots))\n",
    "\n",
    "    for i, col in enumerate(categorical_cols):\n",
    "        plt.subplot(num_plots, 1, i + 1)\n",
    "        plt.pie(df[col].value_counts(), autopct = '%1.1f%%', labels=df[col].sort_values().unique())\n",
    "        plt.title(f'Соотношение {col}')\n",
    "        plt.xlabel(col)\n",
    "        plt.ylabel('Количество')\n",
    "\n",
    "    plt.tight_layout()\n",
    "    plt.show()"
   ]
  },
  {
   "cell_type": "markdown",
   "metadata": {},
   "source": [
    "### Загрузка данных"
   ]
  },
  {
   "cell_type": "code",
   "execution_count": 4,
   "metadata": {},
   "outputs": [
    {
     "name": "stdout",
     "output_type": "stream",
     "text": [
      "<class 'pandas.core.frame.DataFrame'>\n",
      "RangeIndex: 100000 entries, 0 to 99999\n",
      "Data columns (total 5 columns):\n",
      " #   Column   Non-Null Count   Dtype  \n",
      "---  ------   --------------   -----  \n",
      " 0   id       100000 non-null  object \n",
      " 1   f0       100000 non-null  float64\n",
      " 2   f1       100000 non-null  float64\n",
      " 3   f2       100000 non-null  float64\n",
      " 4   product  100000 non-null  float64\n",
      "dtypes: float64(4), object(1)\n",
      "memory usage: 3.8+ MB\n"
     ]
    },
    {
     "data": {
      "text/html": [
       "<div>\n",
       "<style scoped>\n",
       "    .dataframe tbody tr th:only-of-type {\n",
       "        vertical-align: middle;\n",
       "    }\n",
       "\n",
       "    .dataframe tbody tr th {\n",
       "        vertical-align: top;\n",
       "    }\n",
       "\n",
       "    .dataframe thead th {\n",
       "        text-align: right;\n",
       "    }\n",
       "</style>\n",
       "<table border=\"1\" class=\"dataframe\">\n",
       "  <thead>\n",
       "    <tr style=\"text-align: right;\">\n",
       "      <th></th>\n",
       "      <th>id</th>\n",
       "      <th>f0</th>\n",
       "      <th>f1</th>\n",
       "      <th>f2</th>\n",
       "      <th>product</th>\n",
       "    </tr>\n",
       "  </thead>\n",
       "  <tbody>\n",
       "    <tr>\n",
       "      <th>0</th>\n",
       "      <td>txEyH</td>\n",
       "      <td>0.705745</td>\n",
       "      <td>-0.497823</td>\n",
       "      <td>1.221170</td>\n",
       "      <td>105.280062</td>\n",
       "    </tr>\n",
       "    <tr>\n",
       "      <th>1</th>\n",
       "      <td>2acmU</td>\n",
       "      <td>1.334711</td>\n",
       "      <td>-0.340164</td>\n",
       "      <td>4.365080</td>\n",
       "      <td>73.037750</td>\n",
       "    </tr>\n",
       "    <tr>\n",
       "      <th>2</th>\n",
       "      <td>409Wp</td>\n",
       "      <td>1.022732</td>\n",
       "      <td>0.151990</td>\n",
       "      <td>1.419926</td>\n",
       "      <td>85.265647</td>\n",
       "    </tr>\n",
       "    <tr>\n",
       "      <th>3</th>\n",
       "      <td>iJLyR</td>\n",
       "      <td>-0.032172</td>\n",
       "      <td>0.139033</td>\n",
       "      <td>2.978566</td>\n",
       "      <td>168.620776</td>\n",
       "    </tr>\n",
       "    <tr>\n",
       "      <th>4</th>\n",
       "      <td>Xdl7t</td>\n",
       "      <td>1.988431</td>\n",
       "      <td>0.155413</td>\n",
       "      <td>4.751769</td>\n",
       "      <td>154.036647</td>\n",
       "    </tr>\n",
       "  </tbody>\n",
       "</table>\n",
       "</div>"
      ],
      "text/plain": [
       "      id        f0        f1        f2     product\n",
       "0  txEyH  0.705745 -0.497823  1.221170  105.280062\n",
       "1  2acmU  1.334711 -0.340164  4.365080   73.037750\n",
       "2  409Wp  1.022732  0.151990  1.419926   85.265647\n",
       "3  iJLyR -0.032172  0.139033  2.978566  168.620776\n",
       "4  Xdl7t  1.988431  0.155413  4.751769  154.036647"
      ]
     },
     "metadata": {},
     "output_type": "display_data"
    }
   ],
   "source": [
    "geo_data_0 = pd.read_csv('./datasets/geo_data_0.csv')\n",
    "geo_data_0.info()\n",
    "display(geo_data_0.head())"
   ]
  },
  {
   "cell_type": "code",
   "execution_count": 5,
   "metadata": {},
   "outputs": [
    {
     "name": "stdout",
     "output_type": "stream",
     "text": [
      "<class 'pandas.core.frame.DataFrame'>\n",
      "RangeIndex: 100000 entries, 0 to 99999\n",
      "Data columns (total 5 columns):\n",
      " #   Column   Non-Null Count   Dtype  \n",
      "---  ------   --------------   -----  \n",
      " 0   id       100000 non-null  object \n",
      " 1   f0       100000 non-null  float64\n",
      " 2   f1       100000 non-null  float64\n",
      " 3   f2       100000 non-null  float64\n",
      " 4   product  100000 non-null  float64\n",
      "dtypes: float64(4), object(1)\n",
      "memory usage: 3.8+ MB\n"
     ]
    },
    {
     "data": {
      "text/html": [
       "<div>\n",
       "<style scoped>\n",
       "    .dataframe tbody tr th:only-of-type {\n",
       "        vertical-align: middle;\n",
       "    }\n",
       "\n",
       "    .dataframe tbody tr th {\n",
       "        vertical-align: top;\n",
       "    }\n",
       "\n",
       "    .dataframe thead th {\n",
       "        text-align: right;\n",
       "    }\n",
       "</style>\n",
       "<table border=\"1\" class=\"dataframe\">\n",
       "  <thead>\n",
       "    <tr style=\"text-align: right;\">\n",
       "      <th></th>\n",
       "      <th>id</th>\n",
       "      <th>f0</th>\n",
       "      <th>f1</th>\n",
       "      <th>f2</th>\n",
       "      <th>product</th>\n",
       "    </tr>\n",
       "  </thead>\n",
       "  <tbody>\n",
       "    <tr>\n",
       "      <th>0</th>\n",
       "      <td>kBEdx</td>\n",
       "      <td>-15.001348</td>\n",
       "      <td>-8.276000</td>\n",
       "      <td>-0.005876</td>\n",
       "      <td>3.179103</td>\n",
       "    </tr>\n",
       "    <tr>\n",
       "      <th>1</th>\n",
       "      <td>62mP7</td>\n",
       "      <td>14.272088</td>\n",
       "      <td>-3.475083</td>\n",
       "      <td>0.999183</td>\n",
       "      <td>26.953261</td>\n",
       "    </tr>\n",
       "    <tr>\n",
       "      <th>2</th>\n",
       "      <td>vyE1P</td>\n",
       "      <td>6.263187</td>\n",
       "      <td>-5.948386</td>\n",
       "      <td>5.001160</td>\n",
       "      <td>134.766305</td>\n",
       "    </tr>\n",
       "    <tr>\n",
       "      <th>3</th>\n",
       "      <td>KcrkZ</td>\n",
       "      <td>-13.081196</td>\n",
       "      <td>-11.506057</td>\n",
       "      <td>4.999415</td>\n",
       "      <td>137.945408</td>\n",
       "    </tr>\n",
       "    <tr>\n",
       "      <th>4</th>\n",
       "      <td>AHL4O</td>\n",
       "      <td>12.702195</td>\n",
       "      <td>-8.147433</td>\n",
       "      <td>5.004363</td>\n",
       "      <td>134.766305</td>\n",
       "    </tr>\n",
       "  </tbody>\n",
       "</table>\n",
       "</div>"
      ],
      "text/plain": [
       "      id         f0         f1        f2     product\n",
       "0  kBEdx -15.001348  -8.276000 -0.005876    3.179103\n",
       "1  62mP7  14.272088  -3.475083  0.999183   26.953261\n",
       "2  vyE1P   6.263187  -5.948386  5.001160  134.766305\n",
       "3  KcrkZ -13.081196 -11.506057  4.999415  137.945408\n",
       "4  AHL4O  12.702195  -8.147433  5.004363  134.766305"
      ]
     },
     "metadata": {},
     "output_type": "display_data"
    }
   ],
   "source": [
    "geo_data_1 = pd.read_csv('./datasets/geo_data_1.csv')\n",
    "geo_data_1.info()\n",
    "display(geo_data_1.head())"
   ]
  },
  {
   "cell_type": "code",
   "execution_count": 6,
   "metadata": {},
   "outputs": [
    {
     "name": "stdout",
     "output_type": "stream",
     "text": [
      "<class 'pandas.core.frame.DataFrame'>\n",
      "RangeIndex: 100000 entries, 0 to 99999\n",
      "Data columns (total 5 columns):\n",
      " #   Column   Non-Null Count   Dtype  \n",
      "---  ------   --------------   -----  \n",
      " 0   id       100000 non-null  object \n",
      " 1   f0       100000 non-null  float64\n",
      " 2   f1       100000 non-null  float64\n",
      " 3   f2       100000 non-null  float64\n",
      " 4   product  100000 non-null  float64\n",
      "dtypes: float64(4), object(1)\n",
      "memory usage: 3.8+ MB\n"
     ]
    },
    {
     "data": {
      "text/html": [
       "<div>\n",
       "<style scoped>\n",
       "    .dataframe tbody tr th:only-of-type {\n",
       "        vertical-align: middle;\n",
       "    }\n",
       "\n",
       "    .dataframe tbody tr th {\n",
       "        vertical-align: top;\n",
       "    }\n",
       "\n",
       "    .dataframe thead th {\n",
       "        text-align: right;\n",
       "    }\n",
       "</style>\n",
       "<table border=\"1\" class=\"dataframe\">\n",
       "  <thead>\n",
       "    <tr style=\"text-align: right;\">\n",
       "      <th></th>\n",
       "      <th>id</th>\n",
       "      <th>f0</th>\n",
       "      <th>f1</th>\n",
       "      <th>f2</th>\n",
       "      <th>product</th>\n",
       "    </tr>\n",
       "  </thead>\n",
       "  <tbody>\n",
       "    <tr>\n",
       "      <th>0</th>\n",
       "      <td>fwXo0</td>\n",
       "      <td>-1.146987</td>\n",
       "      <td>0.963328</td>\n",
       "      <td>-0.828965</td>\n",
       "      <td>27.758673</td>\n",
       "    </tr>\n",
       "    <tr>\n",
       "      <th>1</th>\n",
       "      <td>WJtFt</td>\n",
       "      <td>0.262778</td>\n",
       "      <td>0.269839</td>\n",
       "      <td>-2.530187</td>\n",
       "      <td>56.069697</td>\n",
       "    </tr>\n",
       "    <tr>\n",
       "      <th>2</th>\n",
       "      <td>ovLUW</td>\n",
       "      <td>0.194587</td>\n",
       "      <td>0.289035</td>\n",
       "      <td>-5.586433</td>\n",
       "      <td>62.871910</td>\n",
       "    </tr>\n",
       "    <tr>\n",
       "      <th>3</th>\n",
       "      <td>q6cA6</td>\n",
       "      <td>2.236060</td>\n",
       "      <td>-0.553760</td>\n",
       "      <td>0.930038</td>\n",
       "      <td>114.572842</td>\n",
       "    </tr>\n",
       "    <tr>\n",
       "      <th>4</th>\n",
       "      <td>WPMUX</td>\n",
       "      <td>-0.515993</td>\n",
       "      <td>1.716266</td>\n",
       "      <td>5.899011</td>\n",
       "      <td>149.600746</td>\n",
       "    </tr>\n",
       "  </tbody>\n",
       "</table>\n",
       "</div>"
      ],
      "text/plain": [
       "      id        f0        f1        f2     product\n",
       "0  fwXo0 -1.146987  0.963328 -0.828965   27.758673\n",
       "1  WJtFt  0.262778  0.269839 -2.530187   56.069697\n",
       "2  ovLUW  0.194587  0.289035 -5.586433   62.871910\n",
       "3  q6cA6  2.236060 -0.553760  0.930038  114.572842\n",
       "4  WPMUX -0.515993  1.716266  5.899011  149.600746"
      ]
     },
     "metadata": {},
     "output_type": "display_data"
    }
   ],
   "source": [
    "geo_data_2 = pd.read_csv('./datasets/geo_data_2.csv')\n",
    "geo_data_2.info()\n",
    "display(geo_data_2.head())"
   ]
  },
  {
   "cell_type": "markdown",
   "metadata": {},
   "source": [
    "### Проверка на наличие пропусков"
   ]
  },
  {
   "cell_type": "code",
   "execution_count": 7,
   "metadata": {},
   "outputs": [
    {
     "data": {
      "text/plain": [
       "id         0\n",
       "f0         0\n",
       "f1         0\n",
       "f2         0\n",
       "product    0\n",
       "dtype: int64"
      ]
     },
     "execution_count": 7,
     "metadata": {},
     "output_type": "execute_result"
    }
   ],
   "source": [
    "geo_data_0.isna().sum()"
   ]
  },
  {
   "cell_type": "code",
   "execution_count": 8,
   "metadata": {},
   "outputs": [
    {
     "data": {
      "text/plain": [
       "id         0\n",
       "f0         0\n",
       "f1         0\n",
       "f2         0\n",
       "product    0\n",
       "dtype: int64"
      ]
     },
     "execution_count": 8,
     "metadata": {},
     "output_type": "execute_result"
    }
   ],
   "source": [
    "geo_data_1.isna().sum()"
   ]
  },
  {
   "cell_type": "code",
   "execution_count": 9,
   "metadata": {},
   "outputs": [
    {
     "data": {
      "text/plain": [
       "id         0\n",
       "f0         0\n",
       "f1         0\n",
       "f2         0\n",
       "product    0\n",
       "dtype: int64"
      ]
     },
     "execution_count": 9,
     "metadata": {},
     "output_type": "execute_result"
    }
   ],
   "source": [
    "geo_data_2.isna().sum()"
   ]
  },
  {
   "cell_type": "markdown",
   "metadata": {},
   "source": [
    "Пропусков не обнаружено"
   ]
  },
  {
   "cell_type": "markdown",
   "metadata": {},
   "source": [
    "### Анализ данных"
   ]
  },
  {
   "cell_type": "code",
   "execution_count": 10,
   "metadata": {},
   "outputs": [
    {
     "data": {
      "image/png": "[encoded data removed]",
      "text/plain": [
       "<Figure size 1500x2000 with 8 Axes>"
      ]
     },
     "metadata": {},
     "output_type": "display_data"
    }
   ],
   "source": [
    "plots_hist_box(geo_data_0)"
   ]
  },
  {
   "cell_type": "code",
   "execution_count": 11,
   "metadata": {},
   "outputs": [
    {
     "data": {
      "image/png": "[encoded data removed]",
      "text/plain": [
       "<Figure size 1500x2000 with 8 Axes>"
      ]
     },
     "metadata": {},
     "output_type": "display_data"
    }
   ],
   "source": [
    "plots_hist_box(geo_data_1)"
   ]
  },
  {
   "cell_type": "code",
   "execution_count": 12,
   "metadata": {},
   "outputs": [
    {
     "data": {
      "image/png": "[encoded data removed]",
      "text/plain": [
       "<Figure size 1500x2000 with 8 Axes>"
      ]
     },
     "metadata": {},
     "output_type": "display_data"
    }
   ],
   "source": [
    "plots_hist_box(geo_data_2)"
   ]
  },
  {
   "cell_type": "markdown",
   "metadata": {},
   "source": [
    "В целом данные нормально распределены или близки к нормальному распределению по параметрам. Анализируя графики, складывается ощущение что датасет для второго региона имеет сильные искажения или ошибки в данных. Больше всего это сказывается на параметрах f2 и product. <br><br>\n",
    "Говоря о датасетах 1-ого и 3-его регионах, стоит заметить что сильных выбросов в данных не обнаружено и данные выглядят хорошо.<br><br>\n",
    "Подробнее рассмотрим product."
   ]
  },
  {
   "cell_type": "markdown",
   "metadata": {},
   "source": [
    "### Распределение объема скважин"
   ]
  },
  {
   "cell_type": "code",
   "execution_count": 13,
   "metadata": {},
   "outputs": [
    {
     "data": {
      "image/png": "[encoded data removed]",
      "text/plain": [
       "<Figure size 1500x800 with 1 Axes>"
      ]
     },
     "metadata": {},
     "output_type": "display_data"
    }
   ],
   "source": [
    "plt.figure(figsize=(15,8))\n",
    "geo_data_0['product'].hist(bins=175)\n",
    "plt.xlabel('Объем, тыс. барелей')\n",
    "plt.ylabel('Количество скважин')\n",
    "plt.title('Распределение объема скважин первого региона')\n",
    "plt.show()"
   ]
  },
  {
   "cell_type": "code",
   "execution_count": 14,
   "metadata": {},
   "outputs": [
    {
     "data": {
      "image/png": "[encoded data removed]",
      "text/plain": [
       "<Figure size 1500x800 with 1 Axes>"
      ]
     },
     "metadata": {},
     "output_type": "display_data"
    }
   ],
   "source": [
    "plt.figure(figsize=(15,8))\n",
    "geo_data_1['product'].hist(bins=90)\n",
    "plt.xlabel('Объем, тыс. барелей')\n",
    "plt.ylabel('Количество скважин')\n",
    "plt.title('Распределение объема скважин второго региона')\n",
    "plt.show()"
   ]
  },
  {
   "cell_type": "code",
   "execution_count": 15,
   "metadata": {},
   "outputs": [
    {
     "data": {
      "image/png": "[encoded data removed]",
      "text/plain": [
       "<Figure size 1500x800 with 1 Axes>"
      ]
     },
     "metadata": {},
     "output_type": "display_data"
    }
   ],
   "source": [
    "plt.figure(figsize=(15,8))\n",
    "geo_data_2['product'].hist(bins=180)\n",
    "plt.xlabel('Объем, тыс. барелей')\n",
    "plt.ylabel('Количество скважин')\n",
    "plt.title('Распределение объема скважин третьего региона')\n",
    "plt.show()"
   ]
  },
  {
   "cell_type": "markdown",
   "metadata": {},
   "source": [
    "### Корреляционный анализ"
   ]
  },
  {
   "cell_type": "markdown",
   "metadata": {},
   "source": [
    "Так как объем данных большой и считает долго, возьмен образец данных."
   ]
  },
  {
   "cell_type": "code",
   "execution_count": 16,
   "metadata": {},
   "outputs": [
    {
     "data": {
      "image/png": "[encoded data removed]",
      "text/plain": [
       "<Figure size 1500x800 with 6 Axes>"
      ]
     },
     "metadata": {},
     "output_type": "display_data"
    }
   ],
   "source": [
    "plt.figure(figsize=(15, 8))\n",
    "\n",
    "plt.subplot(3, 3, 1)\n",
    "plt.title('коэффициент для первого региона phi k')\n",
    "corr_matrix0 = geo_data_0.drop(columns=(['id'])).corr(method='spearman');\n",
    "sns.heatmap(corr_matrix0,\n",
    "            xticklabels=corr_matrix0.columns.values,\n",
    "            yticklabels=corr_matrix0.columns.values,\n",
    "           fmt=\".2f\", annot=True, linewidth=.5);\n",
    "\n",
    "plt.subplot(3, 3, 2)\n",
    "plt.title('коэффициент для второго региона phi k')\n",
    "corr_matrix1 = geo_data_1.drop(columns=(['id'])).corr(method='spearman');\n",
    "sns.heatmap(corr_matrix1,\n",
    "            xticklabels=corr_matrix1.columns.values,\n",
    "            yticklabels=corr_matrix1.columns.values,\n",
    "           fmt=\".2f\", annot=True, linewidth=.5);\n",
    "\n",
    "plt.subplot(3, 3, 3)\n",
    "plt.title('коэффициент для третьего региона phi k')\n",
    "corr_matrix2 = geo_data_2.drop(columns=(['id'])).corr(method='spearman');\n",
    "sns.heatmap(corr_matrix2,\n",
    "            xticklabels=corr_matrix2.columns.values,\n",
    "            yticklabels=corr_matrix2.columns.values,\n",
    "           fmt=\".2f\", annot=True, linewidth=.5);\n",
    "plt.tight_layout()\n",
    "plt.show()"
   ]
  },
  {
   "cell_type": "markdown",
   "metadata": {},
   "source": [
    "<s>Великолепная корреляция между целевым признаком и параметрами f0, f1, f2 в первом и третьем регионе.</s>"
   ]
  },
  {
   "cell_type": "markdown",
   "metadata": {},
   "source": [
    "Судя по матрицам корреляции параметр f2 имеет заметную корреляцию с целевым признаком в первом и третьем регионе. (Второй не смотрим, он подозрительный) "
   ]
  },
  {
   "cell_type": "markdown",
   "metadata": {},
   "source": [
    "### Вывод:\n",
    "Данные готовы к обучению и проверки модели.<br><br>\n",
    "\n",
    "Во втором датасете обнаружено много месторождений с нулевым объемом, и все варианты значений укладывается в 12 значений. Сравнив распределение признаков с первым и третьим регионом то можно сказать что в данных какая-то ошибка либо они повреждены."
   ]
  },
  {
   "cell_type": "markdown",
   "metadata": {},
   "source": [
    "## Обучение и проверка модели"
   ]
  },
  {
   "cell_type": "markdown",
   "metadata": {},
   "source": [
    "### Разбейте данные на обучающую и валидационную выборки в соотношении 75:25."
   ]
  },
  {
   "cell_type": "markdown",
   "metadata": {},
   "source": [
    "Колонка id не информативна и не будет участвовать в обучении модели. Удалим ее из каждого датасета."
   ]
  },
  {
   "cell_type": "code",
   "execution_count": 17,
   "metadata": {},
   "outputs": [
    {
     "name": "stdout",
     "output_type": "stream",
     "text": [
      "<class 'pandas.core.frame.DataFrame'>\n",
      "RangeIndex: 100000 entries, 0 to 99999\n",
      "Data columns (total 4 columns):\n",
      " #   Column   Non-Null Count   Dtype  \n",
      "---  ------   --------------   -----  \n",
      " 0   f0       100000 non-null  float64\n",
      " 1   f1       100000 non-null  float64\n",
      " 2   f2       100000 non-null  float64\n",
      " 3   product  100000 non-null  float64\n",
      "dtypes: float64(4)\n",
      "memory usage: 3.1 MB\n",
      "<class 'pandas.core.frame.DataFrame'>\n",
      "RangeIndex: 100000 entries, 0 to 99999\n",
      "Data columns (total 4 columns):\n",
      " #   Column   Non-Null Count   Dtype  \n",
      "---  ------   --------------   -----  \n",
      " 0   f0       100000 non-null  float64\n",
      " 1   f1       100000 non-null  float64\n",
      " 2   f2       100000 non-null  float64\n",
      " 3   product  100000 non-null  float64\n",
      "dtypes: float64(4)\n",
      "memory usage: 3.1 MB\n",
      "<class 'pandas.core.frame.DataFrame'>\n",
      "RangeIndex: 100000 entries, 0 to 99999\n",
      "Data columns (total 4 columns):\n",
      " #   Column   Non-Null Count   Dtype  \n",
      "---  ------   --------------   -----  \n",
      " 0   f0       100000 non-null  float64\n",
      " 1   f1       100000 non-null  float64\n",
      " 2   f2       100000 non-null  float64\n",
      " 3   product  100000 non-null  float64\n",
      "dtypes: float64(4)\n",
      "memory usage: 3.1 MB\n"
     ]
    }
   ],
   "source": [
    "geo_data_0.drop('id',inplace=True,axis=1)\n",
    "geo_data_0.info()\n",
    "geo_data_1.drop('id',inplace=True,axis=1)\n",
    "geo_data_1.info()\n",
    "geo_data_2.drop('id',inplace=True,axis=1)\n",
    "geo_data_2.info()"
   ]
  },
  {
   "cell_type": "markdown",
   "metadata": {},
   "source": [
    "Добавим функцию разбиения датасета на обучающую и валидационную выборки"
   ]
  },
  {
   "cell_type": "code",
   "execution_count": 18,
   "metadata": {},
   "outputs": [],
   "source": [
    "def data_split(data, target, valid_size):\n",
    "    # data - dataframe\n",
    "    # target - target feature\n",
    "    # valid_size - train and valid proportion\n",
    "    features = data.drop([target] , axis=1)\n",
    "    target = data[target]\n",
    "\n",
    "    features_train, features_valid, target_train, target_valid = train_test_split(\n",
    "    features, target, test_size=valid_size, random_state=RANDOM_STATE)\n",
    "    \n",
    "    return features_train, features_valid, target_train, target_valid"
   ]
  },
  {
   "cell_type": "markdown",
   "metadata": {},
   "source": [
    "Категориальные признаки в даннных отсутствуют, имеются только количественные. Отмасштабируем их перед обучением модели. Для этого добавим функцию."
   ]
  },
  {
   "cell_type": "code",
   "execution_count": 19,
   "metadata": {},
   "outputs": [],
   "source": [
    "def data_split_scale(data, target, valid_size, cols_to_scale):\n",
    "    features_train, features_valid, target_train, target_valid = data_split(data, target, valid_size)\n",
    "    \n",
    "    scaler = StandardScaler()\n",
    "    scaler.fit(features_train[cols_to_scale])\n",
    "    features_train_scaled = scaler.transform(features_train[cols_to_scale])\n",
    "    features_valid_scaled = scaler.transform(features_valid[cols_to_scale])\n",
    "    return features_train_scaled, features_valid_scaled, target_train, target_valid"
   ]
  },
  {
   "cell_type": "markdown",
   "metadata": {},
   "source": [
    "Объявим функцию, которая на выходе выдаст нам валидационные и предсказанные значения"
   ]
  },
  {
   "cell_type": "code",
   "execution_count": 20,
   "metadata": {},
   "outputs": [],
   "source": [
    "def make_model_get_result(data, target, valid_size, cols_to_scale):\n",
    "    train_x, valid_x, train_y, valid_y = data_split_scale(data, target, valid_size, cols_to_scale)\n",
    "    model = LinearRegression()\n",
    "    model.fit(train_x, train_y)\n",
    "    predict_y = model.predict(valid_x)\n",
    "    return valid_y, predict_y"
   ]
  },
  {
   "cell_type": "markdown",
   "metadata": {},
   "source": [
    "### Обучите модель и сделайте предсказания на валидационной выборке."
   ]
  },
  {
   "cell_type": "markdown",
   "metadata": {},
   "source": [
    "Далее работать будем с моделью линейной регрессии."
   ]
  },
  {
   "cell_type": "code",
   "execution_count": 21,
   "metadata": {},
   "outputs": [],
   "source": [
    "# Модель и предсказания для первого региона \n",
    "geo0_valid_y, geo0_predict_y = make_model_get_result(geo_data_0, 'product', 0.25, ['f0','f1','f2'])"
   ]
  },
  {
   "cell_type": "code",
   "execution_count": 22,
   "metadata": {},
   "outputs": [],
   "source": [
    "# Модель и предсказания для второго региона\n",
    "geo1_valid_y, geo1_predict_y = make_model_get_result(geo_data_1, 'product', 0.25, ['f0','f1','f2'])"
   ]
  },
  {
   "cell_type": "code",
   "execution_count": 23,
   "metadata": {},
   "outputs": [],
   "source": [
    "# Модель и предсказания для второго региона\n",
    "geo2_valid_y, geo2_predict_y = make_model_get_result(geo_data_2, 'product', 0.25, ['f0','f1','f2'])"
   ]
  },
  {
   "cell_type": "markdown",
   "metadata": {},
   "source": [
    "### Сохраните предсказания и правильные ответы на валидационной выборке."
   ]
  },
  {
   "cell_type": "code",
   "execution_count": 24,
   "metadata": {},
   "outputs": [
    {
     "data": {
      "text/html": [
       "<div>\n",
       "<style scoped>\n",
       "    .dataframe tbody tr th:only-of-type {\n",
       "        vertical-align: middle;\n",
       "    }\n",
       "\n",
       "    .dataframe tbody tr th {\n",
       "        vertical-align: top;\n",
       "    }\n",
       "\n",
       "    .dataframe thead th {\n",
       "        text-align: right;\n",
       "    }\n",
       "</style>\n",
       "<table border=\"1\" class=\"dataframe\">\n",
       "  <thead>\n",
       "    <tr style=\"text-align: right;\">\n",
       "      <th></th>\n",
       "      <th>real</th>\n",
       "      <th>predict</th>\n",
       "    </tr>\n",
       "  </thead>\n",
       "  <tbody>\n",
       "    <tr>\n",
       "      <th>71751</th>\n",
       "      <td>10.038645</td>\n",
       "      <td>95.894952</td>\n",
       "    </tr>\n",
       "    <tr>\n",
       "      <th>80493</th>\n",
       "      <td>114.551489</td>\n",
       "      <td>77.572583</td>\n",
       "    </tr>\n",
       "    <tr>\n",
       "      <th>2655</th>\n",
       "      <td>132.603635</td>\n",
       "      <td>77.892640</td>\n",
       "    </tr>\n",
       "    <tr>\n",
       "      <th>53233</th>\n",
       "      <td>169.072125</td>\n",
       "      <td>90.175134</td>\n",
       "    </tr>\n",
       "    <tr>\n",
       "      <th>91141</th>\n",
       "      <td>122.325180</td>\n",
       "      <td>70.510088</td>\n",
       "    </tr>\n",
       "  </tbody>\n",
       "</table>\n",
       "</div>"
      ],
      "text/plain": [
       "             real    predict\n",
       "71751   10.038645  95.894952\n",
       "80493  114.551489  77.572583\n",
       "2655   132.603635  77.892640\n",
       "53233  169.072125  90.175134\n",
       "91141  122.325180  70.510088"
      ]
     },
     "metadata": {},
     "output_type": "display_data"
    },
    {
     "data": {
      "text/html": [
       "<div>\n",
       "<style scoped>\n",
       "    .dataframe tbody tr th:only-of-type {\n",
       "        vertical-align: middle;\n",
       "    }\n",
       "\n",
       "    .dataframe tbody tr th {\n",
       "        vertical-align: top;\n",
       "    }\n",
       "\n",
       "    .dataframe thead th {\n",
       "        text-align: right;\n",
       "    }\n",
       "</style>\n",
       "<table border=\"1\" class=\"dataframe\">\n",
       "  <thead>\n",
       "    <tr style=\"text-align: right;\">\n",
       "      <th></th>\n",
       "      <th>real</th>\n",
       "      <th>predict</th>\n",
       "    </tr>\n",
       "  </thead>\n",
       "  <tbody>\n",
       "    <tr>\n",
       "      <th>70156</th>\n",
       "      <td>53.906522</td>\n",
       "      <td>54.238152</td>\n",
       "    </tr>\n",
       "    <tr>\n",
       "      <th>42796</th>\n",
       "      <td>84.038886</td>\n",
       "      <td>83.217878</td>\n",
       "    </tr>\n",
       "    <tr>\n",
       "      <th>36723</th>\n",
       "      <td>3.179103</td>\n",
       "      <td>2.971467</td>\n",
       "    </tr>\n",
       "    <tr>\n",
       "      <th>79446</th>\n",
       "      <td>26.953261</td>\n",
       "      <td>25.916480</td>\n",
       "    </tr>\n",
       "    <tr>\n",
       "      <th>93328</th>\n",
       "      <td>110.992147</td>\n",
       "      <td>111.341137</td>\n",
       "    </tr>\n",
       "  </tbody>\n",
       "</table>\n",
       "</div>"
      ],
      "text/plain": [
       "             real     predict\n",
       "70156   53.906522   54.238152\n",
       "42796   84.038886   83.217878\n",
       "36723    3.179103    2.971467\n",
       "79446   26.953261   25.916480\n",
       "93328  110.992147  111.341137"
      ]
     },
     "metadata": {},
     "output_type": "display_data"
    },
    {
     "data": {
      "text/html": [
       "<div>\n",
       "<style scoped>\n",
       "    .dataframe tbody tr th:only-of-type {\n",
       "        vertical-align: middle;\n",
       "    }\n",
       "\n",
       "    .dataframe tbody tr th {\n",
       "        vertical-align: top;\n",
       "    }\n",
       "\n",
       "    .dataframe thead th {\n",
       "        text-align: right;\n",
       "    }\n",
       "</style>\n",
       "<table border=\"1\" class=\"dataframe\">\n",
       "  <thead>\n",
       "    <tr style=\"text-align: right;\">\n",
       "      <th></th>\n",
       "      <th>real</th>\n",
       "      <th>predict</th>\n",
       "    </tr>\n",
       "  </thead>\n",
       "  <tbody>\n",
       "    <tr>\n",
       "      <th>2239</th>\n",
       "      <td>52.610856</td>\n",
       "      <td>112.561878</td>\n",
       "    </tr>\n",
       "    <tr>\n",
       "      <th>40967</th>\n",
       "      <td>52.273440</td>\n",
       "      <td>69.464073</td>\n",
       "    </tr>\n",
       "    <tr>\n",
       "      <th>86415</th>\n",
       "      <td>71.340473</td>\n",
       "      <td>69.866229</td>\n",
       "    </tr>\n",
       "    <tr>\n",
       "      <th>59788</th>\n",
       "      <td>162.937918</td>\n",
       "      <td>110.331048</td>\n",
       "    </tr>\n",
       "    <tr>\n",
       "      <th>37765</th>\n",
       "      <td>155.371552</td>\n",
       "      <td>95.123288</td>\n",
       "    </tr>\n",
       "  </tbody>\n",
       "</table>\n",
       "</div>"
      ],
      "text/plain": [
       "             real     predict\n",
       "2239    52.610856  112.561878\n",
       "40967   52.273440   69.464073\n",
       "86415   71.340473   69.866229\n",
       "59788  162.937918  110.331048\n",
       "37765  155.371552   95.123288"
      ]
     },
     "metadata": {},
     "output_type": "display_data"
    }
   ],
   "source": [
    "results_geo0 = pd.DataFrame({'real' : geo0_valid_y, 'predict' : geo0_predict_y})\n",
    "results_geo1 = pd.DataFrame({'real' : geo1_valid_y, 'predict' : geo1_predict_y})\n",
    "results_geo2 = pd.DataFrame({'real' : geo2_valid_y, 'predict' : geo2_predict_y})\n",
    "\n",
    "display(results_geo0.head())\n",
    "display(results_geo1.head())\n",
    "display(results_geo2.head())"
   ]
  },
  {
   "cell_type": "markdown",
   "metadata": {},
   "source": [
    "### Напечатайте на экране средний запас предсказанного сырья и RMSE модели."
   ]
  },
  {
   "cell_type": "code",
   "execution_count": 25,
   "metadata": {},
   "outputs": [
    {
     "data": {
      "text/html": [
       "<div>\n",
       "<style scoped>\n",
       "    .dataframe tbody tr th:only-of-type {\n",
       "        vertical-align: middle;\n",
       "    }\n",
       "\n",
       "    .dataframe tbody tr th {\n",
       "        vertical-align: top;\n",
       "    }\n",
       "\n",
       "    .dataframe thead th {\n",
       "        text-align: right;\n",
       "    }\n",
       "</style>\n",
       "<table border=\"1\" class=\"dataframe\">\n",
       "  <thead>\n",
       "    <tr style=\"text-align: right;\">\n",
       "      <th></th>\n",
       "      <th>Параметр</th>\n",
       "      <th>Регион 1</th>\n",
       "      <th>Регион 2</th>\n",
       "      <th>Регион 3</th>\n",
       "    </tr>\n",
       "  </thead>\n",
       "  <tbody>\n",
       "    <tr>\n",
       "      <th>0</th>\n",
       "      <td>Сред. запас</td>\n",
       "      <td>92.593</td>\n",
       "      <td>68.770</td>\n",
       "      <td>95.088</td>\n",
       "    </tr>\n",
       "    <tr>\n",
       "      <th>1</th>\n",
       "      <td>Действ. общий запас</td>\n",
       "      <td>2301964.919</td>\n",
       "      <td>1719290.606</td>\n",
       "      <td>2368723.968</td>\n",
       "    </tr>\n",
       "    <tr>\n",
       "      <th>2</th>\n",
       "      <td>Предсказ. общий запас</td>\n",
       "      <td>2314814.195</td>\n",
       "      <td>1719248.786</td>\n",
       "      <td>2377188.203</td>\n",
       "    </tr>\n",
       "    <tr>\n",
       "      <th>3</th>\n",
       "      <td>RMSE</td>\n",
       "      <td>37.579</td>\n",
       "      <td>0.890</td>\n",
       "      <td>39.958</td>\n",
       "    </tr>\n",
       "  </tbody>\n",
       "</table>\n",
       "</div>"
      ],
      "text/plain": [
       "                Параметр     Регион 1     Регион 2     Регион 3\n",
       "0            Сред. запас       92.593       68.770       95.088\n",
       "1    Действ. общий запас  2301964.919  1719290.606  2368723.968\n",
       "2  Предсказ. общий запас  2314814.195  1719248.786  2377188.203\n",
       "3                   RMSE       37.579        0.890       39.958"
      ]
     },
     "metadata": {},
     "output_type": "display_data"
    }
   ],
   "source": [
    "total_result = pd.DataFrame({'Параметр':['Сред. запас','Действ. общий запас','Предсказ. общий запас','RMSE'],\n",
    "                             'Регион 1':[round(results_geo0.predict.mean(),3),\n",
    "                                         round(results_geo0.real.sum(),3),\n",
    "                                         round(results_geo0.predict.sum(),3),\n",
    "                                         round(mean_squared_error(results_geo0.real, results_geo0.predict)**0.5,3)],\n",
    "                             'Регион 2':[round(results_geo1.predict.mean(),3),\n",
    "                                         round(results_geo1.real.sum(),3),\n",
    "                                         round(results_geo1.predict.sum(),3),\n",
    "                                         round(mean_squared_error(results_geo1.real, results_geo1.predict)**0.5,3)],\n",
    "                             'Регион 3':[round(results_geo2.predict.mean(),3),\n",
    "                                         round(results_geo2.real.sum(),3),\n",
    "                                         round(results_geo2.predict.sum(),3),\n",
    "                                         round(mean_squared_error(results_geo2.real, results_geo2.predict)**0.5,3)]\n",
    "                            })\n",
    "\n",
    "display(total_result)"
   ]
  },
  {
   "cell_type": "markdown",
   "metadata": {},
   "source": [
    "### Проанализируйте результаты."
   ]
  },
  {
   "cell_type": "markdown",
   "metadata": {},
   "source": [
    "Для того чтобы понять, насколько хорошо справилась модель, учтем как метрику, так и общие запасы сырья в регионе. <br><br>\n",
    "Если обратиться к метрике RMSE то наилучшим образом модель линейной регрессии обучилась на данных второго региона, а корень из среднеквадратичной ошибки составил - 0.893, далее по качеству идет первый и третий регион с значениями RMSE 37.579 и 40.030 соответственно.\n",
    "<br><br>\n",
    "Однако, если чуть отойти от задания и глянуть насколько точно модель предсказала общий запас сырья в регионах, то увидим, что ближе всего к реальности получилось в первом регионе, далее третий и замыкает второй. Вцелом ничего удивительного, так как в датасете по второму региону много пропусков в записях о количестве сырья в месторождениях. \n",
    "<br><br>\n",
    "Также следует отметить что средний запас предсказанного сырья почти одинаковый для каждого региона."
   ]
  },
  {
   "cell_type": "markdown",
   "metadata": {},
   "source": [
    "### Вывод:"
   ]
  },
  {
   "cell_type": "markdown",
   "metadata": {},
   "source": [
    "Исходя из проведенного анализа и обучения и проверки модели, можно сделать вывод что перспективными для выбора под разработку являются первый и третий регионы. Данные второго региона аномальны и, наверняка, содержат ошибку. С текущими данными по второму региону рискованно делать его приорететным вариантом для проведения разработки и добычи.\n",
    "<br><br>\n",
    "Говоря о модели, можно сказать что результат получился удовлетворительным."
   ]
  },
  {
   "cell_type": "markdown",
   "metadata": {},
   "source": [
    "## Подготовка к расчёту прибыли"
   ]
  },
  {
   "cell_type": "markdown",
   "metadata": {},
   "source": [
    "### Все ключевые значения для расчётов сохраните в отдельных переменных."
   ]
  },
  {
   "cell_type": "markdown",
   "metadata": {},
   "source": [
    "Все ключевые моменты мы зафексировани в табличке, вспомним, что там получилось"
   ]
  },
  {
   "cell_type": "code",
   "execution_count": 26,
   "metadata": {},
   "outputs": [
    {
     "data": {
      "text/html": [
       "<div>\n",
       "<style scoped>\n",
       "    .dataframe tbody tr th:only-of-type {\n",
       "        vertical-align: middle;\n",
       "    }\n",
       "\n",
       "    .dataframe tbody tr th {\n",
       "        vertical-align: top;\n",
       "    }\n",
       "\n",
       "    .dataframe thead th {\n",
       "        text-align: right;\n",
       "    }\n",
       "</style>\n",
       "<table border=\"1\" class=\"dataframe\">\n",
       "  <thead>\n",
       "    <tr style=\"text-align: right;\">\n",
       "      <th></th>\n",
       "      <th>Параметр</th>\n",
       "      <th>Регион 1</th>\n",
       "      <th>Регион 2</th>\n",
       "      <th>Регион 3</th>\n",
       "    </tr>\n",
       "  </thead>\n",
       "  <tbody>\n",
       "    <tr>\n",
       "      <th>0</th>\n",
       "      <td>Сред. запас</td>\n",
       "      <td>92.593</td>\n",
       "      <td>68.770</td>\n",
       "      <td>95.088</td>\n",
       "    </tr>\n",
       "    <tr>\n",
       "      <th>1</th>\n",
       "      <td>Действ. общий запас</td>\n",
       "      <td>2301964.919</td>\n",
       "      <td>1719290.606</td>\n",
       "      <td>2368723.968</td>\n",
       "    </tr>\n",
       "    <tr>\n",
       "      <th>2</th>\n",
       "      <td>Предсказ. общий запас</td>\n",
       "      <td>2314814.195</td>\n",
       "      <td>1719248.786</td>\n",
       "      <td>2377188.203</td>\n",
       "    </tr>\n",
       "    <tr>\n",
       "      <th>3</th>\n",
       "      <td>RMSE</td>\n",
       "      <td>37.579</td>\n",
       "      <td>0.890</td>\n",
       "      <td>39.958</td>\n",
       "    </tr>\n",
       "  </tbody>\n",
       "</table>\n",
       "</div>"
      ],
      "text/plain": [
       "                Параметр     Регион 1     Регион 2     Регион 3\n",
       "0            Сред. запас       92.593       68.770       95.088\n",
       "1    Действ. общий запас  2301964.919  1719290.606  2368723.968\n",
       "2  Предсказ. общий запас  2314814.195  1719248.786  2377188.203\n",
       "3                   RMSE       37.579        0.890       39.958"
      ]
     },
     "metadata": {},
     "output_type": "display_data"
    }
   ],
   "source": [
    "display(total_result)"
   ]
  },
  {
   "cell_type": "markdown",
   "metadata": {},
   "source": [
    "Бюджет на разработку скважин в регионе — 10 млрд рублей.<br><br>\n",
    "При нынешних ценах один баррель сырья приносит 450 рублей дохода. Доход с каждой единицы продукта составляет 450 тыс. рублей, поскольку объём указан в тысячах баррелей.<br><br>\n",
    "При разведке региона исследуют 500 точек, из которых с помощью машинного обучения выбирают 200 лучших для разработки.<br><br>\n",
    "Далее деньги будем считать в миллионах рублей, чтобы не путаться в нулях."
   ]
  },
  {
   "cell_type": "code",
   "execution_count": 27,
   "metadata": {},
   "outputs": [],
   "source": [
    "BUDGET = 10e+03 # Бюджет на разработку скважин в регионе \n",
    "RESEARCH_FIELDS = 500 # Точек для исследования\n",
    "SELECTED_FIELDS = 200 # Точек для разработки\n",
    "PRODUCT_PRICE = 0.45 # Цена за тыс. барелей"
   ]
  },
  {
   "cell_type": "markdown",
   "metadata": {},
   "source": [
    "### Рассчитайте достаточный объём сырья для безубыточной разработки новой скважины. Сравните полученный объём сырья со средним запасом в каждом регионе. "
   ]
  },
  {
   "cell_type": "markdown",
   "metadata": {},
   "source": [
    "А сколько в среднем должен быть запас месторождения, чтобы выйти в 0?"
   ]
  },
  {
   "cell_type": "code",
   "execution_count": 28,
   "metadata": {},
   "outputs": [
    {
     "name": "stdout",
     "output_type": "stream",
     "text": [
      "Средней объем месторождения для безубыточной добычи: 111.111 тыс. баррелей\n"
     ]
    }
   ],
   "source": [
    "print('Средней объем месторождения для безубыточной добычи:', round((BUDGET/SELECTED_FIELDS)/PRODUCT_PRICE,3), 'тыс. баррелей')"
   ]
  },
  {
   "cell_type": "markdown",
   "metadata": {},
   "source": [
    "Так, а сколько всего нужно добыть в регионе чтобы выйти в ноль? "
   ]
  },
  {
   "cell_type": "code",
   "execution_count": 29,
   "metadata": {},
   "outputs": [
    {
     "name": "stdout",
     "output_type": "stream",
     "text": [
      "Средней объем месторождения для безубыточной добычи: 22222.222 тыс. баррелей\n"
     ]
    }
   ],
   "source": [
    "print('Средней объем месторождения для безубыточной добычи:', round(BUDGET/PRODUCT_PRICE,3), 'тыс. баррелей')"
   ]
  },
  {
   "cell_type": "markdown",
   "metadata": {},
   "source": [
    "Чуть больше 22 миллионов баррелей, много."
   ]
  },
  {
   "cell_type": "markdown",
   "metadata": {},
   "source": [
    "### Напишите выводы по этапу подготовки расчёта прибыли."
   ]
  },
  {
   "cell_type": "markdown",
   "metadata": {},
   "source": [
    "Сравнив данные видно, что среднего запаса скважин недостаточно чтобы выйти в окупаемость. Поэтому нам предстоит выбрать только самые большие скважины."
   ]
  },
  {
   "cell_type": "markdown",
   "metadata": {},
   "source": [
    "## Расчёт прибыли и рисков "
   ]
  },
  {
   "cell_type": "markdown",
   "metadata": {},
   "source": [
    "### Напишите функцию для расчёта прибыли по выбранным скважинам и предсказаниям модели."
   ]
  },
  {
   "cell_type": "code",
   "execution_count": 30,
   "metadata": {},
   "outputs": [],
   "source": [
    "def fields_profit(target, predict):\n",
    "    # Выберите скважины с максимальными значениями предсказаний. \n",
    "    best = predict.sort_values(ascending=False).head(SELECTED_FIELDS)    \n",
    "    #Просуммируйте целевое значение объёма сырья, соответствующее этим предсказаниям.\n",
    "    total_profit = target.loc[best.index].sum()\n",
    "    #Рассчитайте прибыль для полученного объёма сырья.\n",
    "    return (total_profit*PRODUCT_PRICE) - BUDGET"
   ]
  },
  {
   "cell_type": "markdown",
   "metadata": {},
   "source": [
    "## Посчитайте риски и прибыль для каждого региона:"
   ]
  },
  {
   "cell_type": "markdown",
   "metadata": {},
   "source": [
    "### Примените технику Bootstrap с 1000 выборок, чтобы найти распределение прибыли."
   ]
  },
  {
   "cell_type": "code",
   "execution_count": 31,
   "metadata": {},
   "outputs": [],
   "source": [
    "# Функция применяет технику Bootstrap согласно заданию, а возвращает \n",
    "# среднюю прибыль, квантиль 2,5% и 97,5%, а также процент риска. Возвращаемые значения выводятся на экран\n",
    "def bootstrap_1000(target, predict):\n",
    "    values=[]\n",
    "    lost = 0\n",
    "    for i in range(1000):\n",
    "        target_sample = target.sample(random_state=RANDOM_STATE, n=RESEARCH_FIELDS, replace=True)\n",
    "        predict_sample = predict[target_sample.index]\n",
    "        profit = fields_profit(target, predict_sample)\n",
    "        #print(profit)\n",
    "        if profit < 0:\n",
    "            lost +=1\n",
    "        values.append(profit)\n",
    "    \n",
    "    values = pd.Series(values)\n",
    "    lower = values.quantile(0.025)\n",
    "    upper = values.quantile(0.975)\n",
    "    average = values.mean()\n",
    "    risk = lost / 1000\n",
    "    print('Средняя прибыль по региону:',round(average,3),'млн. рублей')\n",
    "    print('95%-й доверительный интервал:',round(lower,3),'-',round(upper,3),'млн. рублей')\n",
    "    print('Процент риска',round(risk*100,2),'%')\n",
    "    sns.distplot(values)\n",
    "    return average, lower, upper, risk"
   ]
  },
  {
   "cell_type": "markdown",
   "metadata": {},
   "source": [
    "### Найдите среднюю прибыль, 95%-й доверительный интервал и риск убытков. Убыток — это отрицательная прибыль."
   ]
  },
  {
   "cell_type": "markdown",
   "metadata": {},
   "source": [
    "Применим функцию к полученным ранее данным"
   ]
  },
  {
   "cell_type": "code",
   "execution_count": 32,
   "metadata": {},
   "outputs": [
    {
     "name": "stdout",
     "output_type": "stream",
     "text": [
      "Результаты по региону 1\n",
      "Средняя прибыль по региону: 394.284 млн. рублей\n",
      "95%-й доверительный интервал: -69.451 - 915.496 млн. рублей\n",
      "Процент риска 6.1 %\n",
      "\n",
      "Результаты по региону 2\n",
      "Средняя прибыль по региону: 454.736 млн. рублей\n",
      "95%-й доверительный интервал: 61.072 - 855.914 млн. рублей\n",
      "Процент риска 0.7 %\n",
      "\n",
      "Результаты по региону 3\n",
      "Средняя прибыль по региону: 353.664 млн. рублей\n",
      "95%-й доверительный интервал: -162.651 - 847.762 млн. рублей\n",
      "Процент риска 7.6 %\n"
     ]
    },
    {
     "data": {
      "image/png": "[encoded data removed]",
      "text/plain": [
       "<Figure size 1500x800 with 1 Axes>"
      ]
     },
     "metadata": {},
     "output_type": "display_data"
    }
   ],
   "source": [
    "plt.figure(figsize=(15,8))\n",
    "\n",
    "print('Результаты по региону 1')\n",
    "bootstrap_1000(results_geo0.real,results_geo0.predict)\n",
    "print('\\nРезультаты по региону 2')\n",
    "bootstrap_1000(results_geo1.real,results_geo1.predict)\n",
    "print('\\nРезультаты по региону 3')\n",
    "bootstrap_1000(results_geo2.real,results_geo2.predict)\n",
    "\n",
    "plt.xlabel('Прибыль, млн. руб.')\n",
    "plt.ylabel('Плотность распределения')\n",
    "plt.legend(['1','2','3'],title=\"Регион\")\n",
    "plt.show()"
   ]
  },
  {
   "cell_type": "markdown",
   "metadata": {},
   "source": [
    "### Напишите выводы: предложите регион для разработки скважин и обоснуйте выбор."
   ]
  },
  {
   "cell_type": "markdown",
   "metadata": {},
   "source": [
    "Лучший результат оказался во втором регионе, но как говорили ранее. Данные в датасете выглядят подозрительно, а также присутствуют множественные пропуски в колонке product.<br><br>\n",
    "В итоге, первая модель предоставляет минимальный процент риска - 7.5%, что соответсвует и самую большую среднюю прибыль по региону в 380 млн. рублей.\n"
   ]
  },
  {
   "cell_type": "markdown",
   "metadata": {},
   "source": [
    "## Вывод\n",
    "В ходе работы были загруженны и подготовлены данные, обучены и проверены модели для каждого из трех регионов, проведена подготовка и рассчитаны риски и прибыль для регионов.<br><br>\n",
    "Цели работы частично достигнуты, так как ни одна из моделей не смогла гарантировать риск равным или менее 2.5%. Но наилучшим вариантом для разработки является первый регион с наибольшей средней прибылью по региону.\n"
   ]
  },
  {
   "cell_type": "markdown",
   "metadata": {},
   "source": [
    "## Чек-лист готовности проекта"
   ]
  },
  {
   "cell_type": "markdown",
   "metadata": {},
   "source": [
    "Поставьте 'x' в выполненных пунктах. Далее нажмите Shift+Enter."
   ]
  },
  {
   "cell_type": "markdown",
   "metadata": {},
   "source": [
    "- [x]  Jupyter Notebook открыт\n",
    "- [x]  Весь код выполняется без ошибок\n",
    "- [x]  Ячейки с кодом расположены в порядке исполнения\n",
    "- [x]  Выполнен шаг 1: данные подготовлены\n",
    "- [x]  Выполнен шаг 2: модели обучены и проверены\n",
    "    - [x]  Данные корректно разбиты на обучающую и валидационную выборки\n",
    "    - [x]  Модели обучены, предсказания сделаны\n",
    "    - [x]  Предсказания и правильные ответы на валидационной выборке сохранены\n",
    "    - [x]  На экране напечатаны результаты\n",
    "    - [x]  Сделаны выводы\n",
    "- [x]  Выполнен шаг 3: проведена подготовка к расчёту прибыли\n",
    "    - [x]  Для всех ключевых значений созданы константы Python\n",
    "    - [x]  Посчитано минимальное среднее количество продукта в месторождениях региона, достаточное для разработки\n",
    "    - [x]  По предыдущему пункту сделаны выводы\n",
    "    - [x]  Написана функция расчёта прибыли\n",
    "- [x]  Выполнен шаг 4: посчитаны риски и прибыль\n",
    "    - [x]  Проведена процедура *Bootstrap*\n",
    "    - [x]  Все параметры бутстрепа соответствуют условию\n",
    "    - [x]  Найдены все нужные величины\n",
    "    - [x]  Предложен регион для разработки месторождения\n",
    "    - [x]  Выбор региона обоснован"
   ]
  }
 ],
 "metadata": {
  "ExecuteTimeLog": [
   {
    "duration": 1514,
    "start_time": "2024-03-15T18:23:19.648Z"
   },
   {
    "duration": 380,
    "start_time": "2024-03-15T18:24:22.845Z"
   },
   {
    "duration": 236,
    "start_time": "2024-03-15T18:24:24.551Z"
   },
   {
    "duration": 214,
    "start_time": "2024-03-15T18:24:27.162Z"
   },
   {
    "duration": 1669,
    "start_time": "2024-03-16T12:55:35.567Z"
   },
   {
    "duration": 534,
    "start_time": "2024-03-16T12:55:43.049Z"
   },
   {
    "duration": 610,
    "start_time": "2024-03-16T12:55:56.921Z"
   },
   {
    "duration": 615,
    "start_time": "2024-03-16T12:56:13.633Z"
   },
   {
    "duration": 111,
    "start_time": "2024-03-16T12:59:57.976Z"
   },
   {
    "duration": 11,
    "start_time": "2024-03-16T13:00:04.524Z"
   },
   {
    "duration": 11,
    "start_time": "2024-03-16T13:00:13.878Z"
   },
   {
    "duration": 12,
    "start_time": "2024-03-16T13:00:20.418Z"
   },
   {
    "duration": 2,
    "start_time": "2024-03-16T13:02:07.804Z"
   },
   {
    "duration": 163,
    "start_time": "2024-03-16T13:03:56.448Z"
   },
   {
    "duration": 344,
    "start_time": "2024-03-16T13:04:22.652Z"
   },
   {
    "duration": 452,
    "start_time": "2024-03-16T13:05:29.847Z"
   },
   {
    "duration": 398,
    "start_time": "2024-03-16T13:05:37.242Z"
   },
   {
    "duration": 396,
    "start_time": "2024-03-16T13:08:12.114Z"
   },
   {
    "duration": 420,
    "start_time": "2024-03-16T13:12:08.066Z"
   },
   {
    "duration": 465,
    "start_time": "2024-03-16T13:12:15.608Z"
   },
   {
    "duration": 278,
    "start_time": "2024-03-16T13:12:32.056Z"
   },
   {
    "duration": 296,
    "start_time": "2024-03-16T13:12:36.158Z"
   },
   {
    "duration": 308,
    "start_time": "2024-03-16T13:12:40.002Z"
   },
   {
    "duration": 302,
    "start_time": "2024-03-16T13:13:00.043Z"
   },
   {
    "duration": 509,
    "start_time": "2024-03-16T13:13:29.492Z"
   },
   {
    "duration": 321,
    "start_time": "2024-03-16T13:16:39.884Z"
   },
   {
    "duration": 8,
    "start_time": "2024-03-16T14:02:58.390Z"
   },
   {
    "duration": 171,
    "start_time": "2024-03-16T14:03:00.153Z"
   },
   {
    "duration": 172,
    "start_time": "2024-03-16T14:03:01.751Z"
   },
   {
    "duration": 173,
    "start_time": "2024-03-16T14:03:03.070Z"
   },
   {
    "duration": 1846,
    "start_time": "2024-03-16T14:04:10.455Z"
   },
   {
    "duration": 1337,
    "start_time": "2024-03-16T14:04:23.214Z"
   },
   {
    "duration": 212,
    "start_time": "2024-03-16T14:05:08.139Z"
   },
   {
    "duration": 1897,
    "start_time": "2024-03-16T14:05:12.988Z"
   },
   {
    "duration": 1777,
    "start_time": "2024-03-16T14:05:22.499Z"
   },
   {
    "duration": 37,
    "start_time": "2024-03-16T14:37:44.318Z"
   },
   {
    "duration": 4,
    "start_time": "2024-03-16T14:46:00.740Z"
   },
   {
    "duration": 297,
    "start_time": "2024-03-16T14:51:19.002Z"
   },
   {
    "duration": 1469,
    "start_time": "2024-03-16T14:51:31.683Z"
   },
   {
    "duration": 7,
    "start_time": "2024-03-16T14:51:33.154Z"
   },
   {
    "duration": 185,
    "start_time": "2024-03-16T14:51:33.163Z"
   },
   {
    "duration": 158,
    "start_time": "2024-03-16T14:51:33.350Z"
   },
   {
    "duration": 165,
    "start_time": "2024-03-16T14:51:33.509Z"
   },
   {
    "duration": 11,
    "start_time": "2024-03-16T14:51:33.675Z"
   },
   {
    "duration": 20,
    "start_time": "2024-03-16T14:51:33.687Z"
   },
   {
    "duration": 11,
    "start_time": "2024-03-16T14:51:33.708Z"
   },
   {
    "duration": 2571,
    "start_time": "2024-03-16T14:51:33.721Z"
   },
   {
    "duration": 1842,
    "start_time": "2024-03-16T14:51:36.295Z"
   },
   {
    "duration": 1660,
    "start_time": "2024-03-16T14:51:38.139Z"
   },
   {
    "duration": 431,
    "start_time": "2024-03-16T14:51:39.800Z"
   },
   {
    "duration": 426,
    "start_time": "2024-03-16T14:51:40.232Z"
   },
   {
    "duration": 396,
    "start_time": "2024-03-16T14:51:40.660Z"
   },
   {
    "duration": 449,
    "start_time": "2024-03-16T14:51:41.057Z"
   },
   {
    "duration": 0,
    "start_time": "2024-03-16T14:51:41.507Z"
   },
   {
    "duration": 0,
    "start_time": "2024-03-16T14:51:41.509Z"
   },
   {
    "duration": 10,
    "start_time": "2024-03-16T14:52:11.702Z"
   },
   {
    "duration": 15736,
    "start_time": "2024-03-16T14:52:14.440Z"
   },
   {
    "duration": 34,
    "start_time": "2024-03-16T14:52:30.179Z"
   },
   {
    "duration": 47303,
    "start_time": "2024-03-16T14:52:30.214Z"
   },
   {
    "duration": 47066,
    "start_time": "2024-03-16T14:54:09.017Z"
   },
   {
    "duration": 9,
    "start_time": "2024-03-16T14:54:56.085Z"
   },
   {
    "duration": 229399,
    "start_time": "2024-03-16T14:56:01.418Z"
   },
   {
    "duration": 7854,
    "start_time": "2024-03-16T15:00:02.432Z"
   },
   {
    "duration": 1303,
    "start_time": "2024-03-16T15:00:10.289Z"
   },
   {
    "duration": 8,
    "start_time": "2024-03-16T15:00:11.594Z"
   },
   {
    "duration": 207,
    "start_time": "2024-03-16T15:00:11.604Z"
   },
   {
    "duration": 163,
    "start_time": "2024-03-16T15:00:11.814Z"
   },
   {
    "duration": 172,
    "start_time": "2024-03-16T15:00:11.978Z"
   },
   {
    "duration": 14,
    "start_time": "2024-03-16T15:00:12.152Z"
   },
   {
    "duration": 25,
    "start_time": "2024-03-16T15:00:12.167Z"
   },
   {
    "duration": 18,
    "start_time": "2024-03-16T15:00:12.194Z"
   },
   {
    "duration": 1708,
    "start_time": "2024-03-16T15:00:12.214Z"
   },
   {
    "duration": 1877,
    "start_time": "2024-03-16T15:00:13.924Z"
   },
   {
    "duration": 1673,
    "start_time": "2024-03-16T15:00:15.803Z"
   },
   {
    "duration": 403,
    "start_time": "2024-03-16T15:00:17.478Z"
   },
   {
    "duration": 412,
    "start_time": "2024-03-16T15:00:17.883Z"
   },
   {
    "duration": 398,
    "start_time": "2024-03-16T15:00:18.297Z"
   },
   {
    "duration": 82477,
    "start_time": "2024-03-16T15:00:18.697Z"
   },
   {
    "duration": 0,
    "start_time": "2024-03-16T15:01:41.175Z"
   },
   {
    "duration": 0,
    "start_time": "2024-03-16T15:01:41.177Z"
   },
   {
    "duration": 0,
    "start_time": "2024-03-16T15:01:41.178Z"
   },
   {
    "duration": 46409,
    "start_time": "2024-03-16T15:02:11.483Z"
   },
   {
    "duration": 73327,
    "start_time": "2024-03-16T15:05:55.962Z"
   },
   {
    "duration": 812,
    "start_time": "2024-03-16T15:08:11.239Z"
   },
   {
    "duration": 963,
    "start_time": "2024-03-16T15:08:18.898Z"
   },
   {
    "duration": 740,
    "start_time": "2024-03-16T15:08:55.373Z"
   },
   {
    "duration": 104,
    "start_time": "2024-03-16T15:10:50.527Z"
   },
   {
    "duration": 38,
    "start_time": "2024-03-16T15:10:56.781Z"
   },
   {
    "duration": 4,
    "start_time": "2024-03-16T15:11:00.022Z"
   },
   {
    "duration": 13550,
    "start_time": "2024-03-17T07:26:02.790Z"
   },
   {
    "duration": 1478,
    "start_time": "2024-03-17T07:26:16.343Z"
   },
   {
    "duration": 7,
    "start_time": "2024-03-17T07:26:17.823Z"
   },
   {
    "duration": 518,
    "start_time": "2024-03-17T07:26:17.832Z"
   },
   {
    "duration": 583,
    "start_time": "2024-03-17T07:26:18.351Z"
   },
   {
    "duration": 548,
    "start_time": "2024-03-17T07:26:18.935Z"
   },
   {
    "duration": 10,
    "start_time": "2024-03-17T07:26:19.485Z"
   },
   {
    "duration": 10,
    "start_time": "2024-03-17T07:26:19.497Z"
   },
   {
    "duration": 12,
    "start_time": "2024-03-17T07:26:19.509Z"
   },
   {
    "duration": 1657,
    "start_time": "2024-03-17T07:26:19.523Z"
   },
   {
    "duration": 1816,
    "start_time": "2024-03-17T07:26:21.181Z"
   },
   {
    "duration": 1622,
    "start_time": "2024-03-17T07:26:23.000Z"
   },
   {
    "duration": 359,
    "start_time": "2024-03-17T07:26:24.624Z"
   },
   {
    "duration": 385,
    "start_time": "2024-03-17T07:26:24.985Z"
   },
   {
    "duration": 386,
    "start_time": "2024-03-17T07:26:25.372Z"
   },
   {
    "duration": 70855,
    "start_time": "2024-03-17T07:26:25.759Z"
   },
   {
    "duration": 32,
    "start_time": "2024-03-17T07:27:36.616Z"
   },
   {
    "duration": 4,
    "start_time": "2024-03-17T07:27:36.651Z"
   },
   {
    "duration": 24,
    "start_time": "2024-03-17T07:27:36.656Z"
   },
   {
    "duration": 234,
    "start_time": "2024-03-17T07:35:18.190Z"
   },
   {
    "duration": 8299,
    "start_time": "2024-03-17T07:35:37.924Z"
   },
   {
    "duration": 1268,
    "start_time": "2024-03-17T07:35:46.225Z"
   },
   {
    "duration": 8,
    "start_time": "2024-03-17T07:35:47.495Z"
   },
   {
    "duration": 172,
    "start_time": "2024-03-17T07:35:47.505Z"
   },
   {
    "duration": 145,
    "start_time": "2024-03-17T07:35:47.680Z"
   },
   {
    "duration": 147,
    "start_time": "2024-03-17T07:35:47.826Z"
   },
   {
    "duration": 10,
    "start_time": "2024-03-17T07:35:47.979Z"
   },
   {
    "duration": 14,
    "start_time": "2024-03-17T07:35:47.991Z"
   },
   {
    "duration": 9,
    "start_time": "2024-03-17T07:35:48.006Z"
   },
   {
    "duration": 1660,
    "start_time": "2024-03-17T07:35:48.017Z"
   },
   {
    "duration": 1771,
    "start_time": "2024-03-17T07:35:49.679Z"
   },
   {
    "duration": 1633,
    "start_time": "2024-03-17T07:35:51.452Z"
   },
   {
    "duration": 403,
    "start_time": "2024-03-17T07:35:53.087Z"
   },
   {
    "duration": 385,
    "start_time": "2024-03-17T07:35:53.493Z"
   },
   {
    "duration": 368,
    "start_time": "2024-03-17T07:35:53.879Z"
   },
   {
    "duration": 97,
    "start_time": "2024-03-17T07:35:54.249Z"
   },
   {
    "duration": 0,
    "start_time": "2024-03-17T07:35:54.347Z"
   },
   {
    "duration": 0,
    "start_time": "2024-03-17T07:35:54.348Z"
   },
   {
    "duration": 0,
    "start_time": "2024-03-17T07:35:54.349Z"
   },
   {
    "duration": 0,
    "start_time": "2024-03-17T07:35:54.350Z"
   },
   {
    "duration": 1301,
    "start_time": "2024-03-17T07:36:03.409Z"
   },
   {
    "duration": 31,
    "start_time": "2024-03-17T07:36:21.597Z"
   },
   {
    "duration": 3,
    "start_time": "2024-03-17T07:36:23.265Z"
   },
   {
    "duration": 4,
    "start_time": "2024-03-17T07:36:24.446Z"
   },
   {
    "duration": 138,
    "start_time": "2024-03-17T08:45:49.826Z"
   },
   {
    "duration": 4,
    "start_time": "2024-03-17T08:46:40.310Z"
   },
   {
    "duration": 32,
    "start_time": "2024-03-17T08:46:41.437Z"
   },
   {
    "duration": 9,
    "start_time": "2024-03-17T08:47:06.005Z"
   },
   {
    "duration": 96,
    "start_time": "2024-03-17T08:47:24.182Z"
   },
   {
    "duration": 4,
    "start_time": "2024-03-17T08:47:28.447Z"
   },
   {
    "duration": 52,
    "start_time": "2024-03-17T09:04:10.729Z"
   },
   {
    "duration": 97,
    "start_time": "2024-03-17T09:04:25.893Z"
   },
   {
    "duration": 66,
    "start_time": "2024-03-17T09:05:02.517Z"
   },
   {
    "duration": 33,
    "start_time": "2024-03-17T09:05:47.350Z"
   },
   {
    "duration": 174,
    "start_time": "2024-03-17T09:05:47.508Z"
   },
   {
    "duration": 66,
    "start_time": "2024-03-17T09:05:56.516Z"
   },
   {
    "duration": 164,
    "start_time": "2024-03-17T09:06:52.417Z"
   },
   {
    "duration": 141,
    "start_time": "2024-03-17T09:07:39.441Z"
   },
   {
    "duration": 18,
    "start_time": "2024-03-17T09:08:24.606Z"
   },
   {
    "duration": 18,
    "start_time": "2024-03-17T09:08:54.668Z"
   },
   {
    "duration": 197,
    "start_time": "2024-03-17T09:09:47.984Z"
   },
   {
    "duration": 171,
    "start_time": "2024-03-17T09:10:23.515Z"
   },
   {
    "duration": 197,
    "start_time": "2024-03-17T16:16:34.585Z"
   },
   {
    "duration": 27,
    "start_time": "2024-03-17T16:17:38.564Z"
   },
   {
    "duration": 25,
    "start_time": "2024-03-17T16:17:48.277Z"
   },
   {
    "duration": 11,
    "start_time": "2024-03-17T16:22:36.346Z"
   },
   {
    "duration": 22,
    "start_time": "2024-03-17T16:22:53.363Z"
   },
   {
    "duration": 64,
    "start_time": "2024-03-17T16:23:48.252Z"
   },
   {
    "duration": 16,
    "start_time": "2024-03-17T16:24:08.445Z"
   },
   {
    "duration": 13,
    "start_time": "2024-03-17T16:24:23.873Z"
   },
   {
    "duration": 18,
    "start_time": "2024-03-17T16:24:57.326Z"
   },
   {
    "duration": 930,
    "start_time": "2024-03-17T16:46:28.970Z"
   },
   {
    "duration": 320,
    "start_time": "2024-03-17T16:47:56.493Z"
   },
   {
    "duration": 828,
    "start_time": "2024-03-17T16:48:17.494Z"
   },
   {
    "duration": 650,
    "start_time": "2024-03-17T17:00:20.992Z"
   },
   {
    "duration": 568,
    "start_time": "2024-03-17T17:00:43.244Z"
   },
   {
    "duration": 23,
    "start_time": "2024-03-17T17:02:54.362Z"
   },
   {
    "duration": 19,
    "start_time": "2024-03-17T17:14:09.840Z"
   },
   {
    "duration": 15,
    "start_time": "2024-03-17T17:14:51.748Z"
   },
   {
    "duration": 15,
    "start_time": "2024-03-17T17:15:09.306Z"
   },
   {
    "duration": 14,
    "start_time": "2024-03-17T17:17:32.730Z"
   },
   {
    "duration": 16,
    "start_time": "2024-03-17T17:22:22.785Z"
   },
   {
    "duration": 53,
    "start_time": "2024-03-18T19:36:43.620Z"
   },
   {
    "duration": 3,
    "start_time": "2024-03-18T19:36:45.872Z"
   },
   {
    "duration": 12758,
    "start_time": "2024-03-18T19:36:50.458Z"
   },
   {
    "duration": 1336,
    "start_time": "2024-03-18T19:37:03.218Z"
   },
   {
    "duration": 8,
    "start_time": "2024-03-18T19:37:04.555Z"
   },
   {
    "duration": 405,
    "start_time": "2024-03-18T19:37:04.565Z"
   },
   {
    "duration": 210,
    "start_time": "2024-03-18T19:37:04.972Z"
   },
   {
    "duration": 217,
    "start_time": "2024-03-18T19:37:05.183Z"
   },
   {
    "duration": 11,
    "start_time": "2024-03-18T19:37:05.402Z"
   },
   {
    "duration": 28,
    "start_time": "2024-03-18T19:37:05.415Z"
   },
   {
    "duration": 12,
    "start_time": "2024-03-18T19:37:05.445Z"
   },
   {
    "duration": 1594,
    "start_time": "2024-03-18T19:37:05.459Z"
   },
   {
    "duration": 1657,
    "start_time": "2024-03-18T19:37:07.055Z"
   },
   {
    "duration": 1519,
    "start_time": "2024-03-18T19:37:08.714Z"
   },
   {
    "duration": 348,
    "start_time": "2024-03-18T19:37:10.235Z"
   },
   {
    "duration": 399,
    "start_time": "2024-03-18T19:37:10.587Z"
   },
   {
    "duration": 351,
    "start_time": "2024-03-18T19:37:10.988Z"
   },
   {
    "duration": 1239,
    "start_time": "2024-03-18T19:37:11.341Z"
   },
   {
    "duration": 34,
    "start_time": "2024-03-18T19:37:12.581Z"
   },
   {
    "duration": 3,
    "start_time": "2024-03-18T19:37:12.617Z"
   },
   {
    "duration": 7,
    "start_time": "2024-03-18T19:37:12.621Z"
   },
   {
    "duration": 75,
    "start_time": "2024-03-18T19:37:12.629Z"
   },
   {
    "duration": 16,
    "start_time": "2024-03-18T19:37:12.706Z"
   },
   {
    "duration": 104,
    "start_time": "2024-03-18T19:37:12.768Z"
   },
   {
    "duration": 93,
    "start_time": "2024-03-18T19:37:12.874Z"
   },
   {
    "duration": 203,
    "start_time": "2024-03-18T19:37:12.969Z"
   },
   {
    "duration": 13,
    "start_time": "2024-03-18T19:37:13.174Z"
   },
   {
    "duration": 2,
    "start_time": "2024-03-18T19:37:13.189Z"
   },
   {
    "duration": 17,
    "start_time": "2024-03-18T19:37:13.192Z"
   },
   {
    "duration": 5,
    "start_time": "2024-03-18T19:42:41.154Z"
   },
   {
    "duration": 9,
    "start_time": "2024-03-18T19:47:18.244Z"
   },
   {
    "duration": 9,
    "start_time": "2024-03-19T12:09:58.490Z"
   },
   {
    "duration": 14189,
    "start_time": "2024-03-19T14:31:42.969Z"
   },
   {
    "duration": 1373,
    "start_time": "2024-03-19T14:31:57.160Z"
   },
   {
    "duration": 7,
    "start_time": "2024-03-19T14:31:58.537Z"
   },
   {
    "duration": 524,
    "start_time": "2024-03-19T14:31:58.546Z"
   },
   {
    "duration": 569,
    "start_time": "2024-03-19T14:31:59.072Z"
   },
   {
    "duration": 564,
    "start_time": "2024-03-19T14:31:59.642Z"
   },
   {
    "duration": 10,
    "start_time": "2024-03-19T14:32:00.208Z"
   },
   {
    "duration": 109,
    "start_time": "2024-03-19T14:32:00.220Z"
   },
   {
    "duration": 60,
    "start_time": "2024-03-19T14:32:00.331Z"
   },
   {
    "duration": 1640,
    "start_time": "2024-03-19T14:32:00.392Z"
   },
   {
    "duration": 1710,
    "start_time": "2024-03-19T14:32:02.034Z"
   },
   {
    "duration": 1537,
    "start_time": "2024-03-19T14:32:03.746Z"
   },
   {
    "duration": 357,
    "start_time": "2024-03-19T14:32:05.286Z"
   },
   {
    "duration": 389,
    "start_time": "2024-03-19T14:32:05.644Z"
   },
   {
    "duration": 382,
    "start_time": "2024-03-19T14:32:06.035Z"
   },
   {
    "duration": 1269,
    "start_time": "2024-03-19T14:32:06.418Z"
   },
   {
    "duration": 39,
    "start_time": "2024-03-19T14:32:07.688Z"
   },
   {
    "duration": 3,
    "start_time": "2024-03-19T14:32:07.728Z"
   },
   {
    "duration": 6,
    "start_time": "2024-03-19T14:32:07.732Z"
   },
   {
    "duration": 69,
    "start_time": "2024-03-19T14:32:07.739Z"
   },
   {
    "duration": 19,
    "start_time": "2024-03-19T14:32:07.810Z"
   },
   {
    "duration": 183,
    "start_time": "2024-03-19T14:32:07.832Z"
   },
   {
    "duration": 104,
    "start_time": "2024-03-19T14:32:08.017Z"
   },
   {
    "duration": 192,
    "start_time": "2024-03-19T14:32:08.124Z"
   },
   {
    "duration": 15,
    "start_time": "2024-03-19T14:32:08.318Z"
   },
   {
    "duration": 16,
    "start_time": "2024-03-19T14:32:08.334Z"
   },
   {
    "duration": 4,
    "start_time": "2024-03-19T14:32:08.351Z"
   },
   {
    "duration": 10,
    "start_time": "2024-03-19T14:32:08.356Z"
   },
   {
    "duration": 13,
    "start_time": "2024-03-19T14:32:08.367Z"
   },
   {
    "duration": 4,
    "start_time": "2024-03-19T14:32:08.382Z"
   },
   {
    "duration": 11,
    "start_time": "2024-03-19T14:32:08.387Z"
   },
   {
    "duration": 122,
    "start_time": "2024-03-19T14:32:08.399Z"
   },
   {
    "duration": 6,
    "start_time": "2024-03-19T14:33:05.865Z"
   },
   {
    "duration": 2921,
    "start_time": "2024-03-19T14:33:07.509Z"
   },
   {
    "duration": 2944,
    "start_time": "2024-03-19T14:33:46.348Z"
   },
   {
    "duration": 4,
    "start_time": "2024-03-19T14:34:54.530Z"
   },
   {
    "duration": 4145,
    "start_time": "2024-03-19T14:34:57.178Z"
   },
   {
    "duration": 5,
    "start_time": "2024-03-19T14:36:21.624Z"
   },
   {
    "duration": 2417,
    "start_time": "2024-03-19T14:36:23.583Z"
   },
   {
    "duration": 6,
    "start_time": "2024-03-19T14:51:24.941Z"
   },
   {
    "duration": 2499,
    "start_time": "2024-03-19T14:51:26.621Z"
   },
   {
    "duration": 7354,
    "start_time": "2024-03-19T14:58:41.527Z"
   },
   {
    "duration": 1237,
    "start_time": "2024-03-19T14:58:48.883Z"
   },
   {
    "duration": 7,
    "start_time": "2024-03-19T14:58:50.122Z"
   },
   {
    "duration": 201,
    "start_time": "2024-03-19T14:58:50.131Z"
   },
   {
    "duration": 146,
    "start_time": "2024-03-19T14:58:50.334Z"
   },
   {
    "duration": 153,
    "start_time": "2024-03-19T14:58:50.481Z"
   },
   {
    "duration": 11,
    "start_time": "2024-03-19T14:58:50.635Z"
   },
   {
    "duration": 17,
    "start_time": "2024-03-19T14:58:50.648Z"
   },
   {
    "duration": 38,
    "start_time": "2024-03-19T14:58:50.667Z"
   },
   {
    "duration": 1631,
    "start_time": "2024-03-19T14:58:50.706Z"
   },
   {
    "duration": 1749,
    "start_time": "2024-03-19T14:58:52.339Z"
   },
   {
    "duration": 1601,
    "start_time": "2024-03-19T14:58:54.090Z"
   },
   {
    "duration": 382,
    "start_time": "2024-03-19T14:58:55.693Z"
   },
   {
    "duration": 409,
    "start_time": "2024-03-19T14:58:56.079Z"
   },
   {
    "duration": 380,
    "start_time": "2024-03-19T14:58:56.490Z"
   },
   {
    "duration": 1329,
    "start_time": "2024-03-19T14:58:56.872Z"
   },
   {
    "duration": 42,
    "start_time": "2024-03-19T14:58:58.203Z"
   },
   {
    "duration": 5,
    "start_time": "2024-03-19T14:58:58.247Z"
   },
   {
    "duration": 6,
    "start_time": "2024-03-19T14:58:58.254Z"
   },
   {
    "duration": 91,
    "start_time": "2024-03-19T14:58:58.263Z"
   },
   {
    "duration": 18,
    "start_time": "2024-03-19T14:58:58.356Z"
   },
   {
    "duration": 104,
    "start_time": "2024-03-19T14:58:58.414Z"
   },
   {
    "duration": 97,
    "start_time": "2024-03-19T14:58:58.520Z"
   },
   {
    "duration": 204,
    "start_time": "2024-03-19T14:58:58.619Z"
   },
   {
    "duration": 22,
    "start_time": "2024-03-19T14:58:58.825Z"
   },
   {
    "duration": 10,
    "start_time": "2024-03-19T14:58:58.850Z"
   },
   {
    "duration": 4,
    "start_time": "2024-03-19T14:58:58.862Z"
   },
   {
    "duration": 10,
    "start_time": "2024-03-19T14:58:58.868Z"
   },
   {
    "duration": 10,
    "start_time": "2024-03-19T14:58:58.915Z"
   },
   {
    "duration": 5,
    "start_time": "2024-03-19T14:58:58.927Z"
   },
   {
    "duration": 9,
    "start_time": "2024-03-19T14:58:58.934Z"
   },
   {
    "duration": 2608,
    "start_time": "2024-03-19T14:58:58.945Z"
   },
   {
    "duration": 6,
    "start_time": "2024-03-19T15:06:14.928Z"
   },
   {
    "duration": 2502,
    "start_time": "2024-03-19T15:06:16.332Z"
   },
   {
    "duration": 3,
    "start_time": "2024-03-19T15:08:07.409Z"
   },
   {
    "duration": 6,
    "start_time": "2024-03-19T15:08:09.201Z"
   },
   {
    "duration": 2475,
    "start_time": "2024-03-19T15:08:10.752Z"
   },
   {
    "duration": 3,
    "start_time": "2024-03-19T15:08:25.485Z"
   },
   {
    "duration": 3,
    "start_time": "2024-03-19T15:08:33.009Z"
   },
   {
    "duration": 4,
    "start_time": "2024-03-19T15:13:26.831Z"
   },
   {
    "duration": 6,
    "start_time": "2024-03-19T15:13:27.615Z"
   },
   {
    "duration": 2511,
    "start_time": "2024-03-19T15:13:29.223Z"
   },
   {
    "duration": 6,
    "start_time": "2024-03-19T15:15:24.644Z"
   },
   {
    "duration": 2451,
    "start_time": "2024-03-19T15:15:25.964Z"
   },
   {
    "duration": 6,
    "start_time": "2024-03-19T15:15:42.092Z"
   },
   {
    "duration": 2575,
    "start_time": "2024-03-19T15:15:44.188Z"
   },
   {
    "duration": 6,
    "start_time": "2024-03-19T15:27:39.189Z"
   },
   {
    "duration": 3120,
    "start_time": "2024-03-19T15:27:40.180Z"
   },
   {
    "duration": 6,
    "start_time": "2024-03-19T15:28:05.420Z"
   },
   {
    "duration": 2472,
    "start_time": "2024-03-19T15:28:07.044Z"
   },
   {
    "duration": 3,
    "start_time": "2024-03-19T15:31:31.269Z"
   },
   {
    "duration": 6,
    "start_time": "2024-03-19T15:31:32.669Z"
   },
   {
    "duration": 117,
    "start_time": "2024-03-19T15:31:34.316Z"
   },
   {
    "duration": 3,
    "start_time": "2024-03-19T15:31:57.083Z"
   },
   {
    "duration": 5,
    "start_time": "2024-03-19T15:31:57.916Z"
   },
   {
    "duration": 18,
    "start_time": "2024-03-19T15:31:59.483Z"
   },
   {
    "duration": 3,
    "start_time": "2024-03-19T15:32:12.804Z"
   },
   {
    "duration": 6,
    "start_time": "2024-03-19T15:32:14.163Z"
   },
   {
    "duration": 2498,
    "start_time": "2024-03-19T15:32:16.155Z"
   },
   {
    "duration": 6,
    "start_time": "2024-03-19T15:34:14.616Z"
   },
   {
    "duration": 2610,
    "start_time": "2024-03-19T15:34:17.782Z"
   },
   {
    "duration": 6,
    "start_time": "2024-03-19T15:34:27.582Z"
   },
   {
    "duration": 3,
    "start_time": "2024-03-19T15:38:58.182Z"
   },
   {
    "duration": 6,
    "start_time": "2024-03-19T15:38:59.318Z"
   },
   {
    "duration": 2487,
    "start_time": "2024-03-19T15:39:00.778Z"
   },
   {
    "duration": 7551,
    "start_time": "2024-03-19T15:45:58.255Z"
   },
   {
    "duration": 1319,
    "start_time": "2024-03-19T15:46:05.808Z"
   },
   {
    "duration": 7,
    "start_time": "2024-03-19T15:46:07.128Z"
   },
   {
    "duration": 171,
    "start_time": "2024-03-19T15:46:07.136Z"
   },
   {
    "duration": 148,
    "start_time": "2024-03-19T15:46:07.316Z"
   },
   {
    "duration": 147,
    "start_time": "2024-03-19T15:46:07.465Z"
   },
   {
    "duration": 11,
    "start_time": "2024-03-19T15:46:07.613Z"
   },
   {
    "duration": 11,
    "start_time": "2024-03-19T15:46:07.625Z"
   },
   {
    "duration": 10,
    "start_time": "2024-03-19T15:46:07.637Z"
   },
   {
    "duration": 1681,
    "start_time": "2024-03-19T15:46:07.648Z"
   },
   {
    "duration": 1770,
    "start_time": "2024-03-19T15:46:09.330Z"
   },
   {
    "duration": 1632,
    "start_time": "2024-03-19T15:46:11.102Z"
   },
   {
    "duration": 378,
    "start_time": "2024-03-19T15:46:12.736Z"
   },
   {
    "duration": 384,
    "start_time": "2024-03-19T15:46:13.117Z"
   },
   {
    "duration": 373,
    "start_time": "2024-03-19T15:46:13.503Z"
   },
   {
    "duration": 1399,
    "start_time": "2024-03-19T15:46:13.878Z"
   },
   {
    "duration": 41,
    "start_time": "2024-03-19T15:46:15.279Z"
   },
   {
    "duration": 4,
    "start_time": "2024-03-19T15:46:15.322Z"
   },
   {
    "duration": 30,
    "start_time": "2024-03-19T15:46:15.327Z"
   },
   {
    "duration": 91,
    "start_time": "2024-03-19T15:46:15.359Z"
   },
   {
    "duration": 18,
    "start_time": "2024-03-19T15:46:15.452Z"
   },
   {
    "duration": 99,
    "start_time": "2024-03-19T15:46:15.521Z"
   },
   {
    "duration": 194,
    "start_time": "2024-03-19T15:46:15.622Z"
   },
   {
    "duration": 197,
    "start_time": "2024-03-19T15:46:15.824Z"
   },
   {
    "duration": 16,
    "start_time": "2024-03-19T15:46:16.023Z"
   },
   {
    "duration": 12,
    "start_time": "2024-03-19T15:46:16.041Z"
   },
   {
    "duration": 25,
    "start_time": "2024-03-19T15:46:16.055Z"
   },
   {
    "duration": 23,
    "start_time": "2024-03-19T15:46:16.083Z"
   },
   {
    "duration": 79,
    "start_time": "2024-03-19T15:46:16.107Z"
   },
   {
    "duration": 101,
    "start_time": "2024-03-19T15:46:16.188Z"
   },
   {
    "duration": 76,
    "start_time": "2024-03-19T15:46:16.291Z"
   },
   {
    "duration": 3386,
    "start_time": "2024-03-19T15:46:16.369Z"
   },
   {
    "duration": 7311,
    "start_time": "2024-03-19T15:49:22.763Z"
   },
   {
    "duration": 1260,
    "start_time": "2024-03-19T15:49:30.077Z"
   },
   {
    "duration": 7,
    "start_time": "2024-03-19T15:49:31.338Z"
   },
   {
    "duration": 267,
    "start_time": "2024-03-19T15:49:31.347Z"
   },
   {
    "duration": 146,
    "start_time": "2024-03-19T15:49:31.616Z"
   },
   {
    "duration": 149,
    "start_time": "2024-03-19T15:49:31.763Z"
   },
   {
    "duration": 10,
    "start_time": "2024-03-19T15:49:31.913Z"
   },
   {
    "duration": 26,
    "start_time": "2024-03-19T15:49:31.924Z"
   },
   {
    "duration": 11,
    "start_time": "2024-03-19T15:49:31.951Z"
   },
   {
    "duration": 1542,
    "start_time": "2024-03-19T15:49:31.964Z"
   },
   {
    "duration": 1772,
    "start_time": "2024-03-19T15:49:33.508Z"
   },
   {
    "duration": 1533,
    "start_time": "2024-03-19T15:49:35.282Z"
   },
   {
    "duration": 383,
    "start_time": "2024-03-19T15:49:36.816Z"
   },
   {
    "duration": 398,
    "start_time": "2024-03-19T15:49:37.202Z"
   },
   {
    "duration": 368,
    "start_time": "2024-03-19T15:49:37.602Z"
   },
   {
    "duration": 1383,
    "start_time": "2024-03-19T15:49:37.973Z"
   },
   {
    "duration": 33,
    "start_time": "2024-03-19T15:49:39.358Z"
   },
   {
    "duration": 4,
    "start_time": "2024-03-19T15:49:39.392Z"
   },
   {
    "duration": 25,
    "start_time": "2024-03-19T15:49:39.397Z"
   },
   {
    "duration": 58,
    "start_time": "2024-03-19T15:49:39.424Z"
   },
   {
    "duration": 33,
    "start_time": "2024-03-19T15:49:39.484Z"
   },
   {
    "duration": 107,
    "start_time": "2024-03-19T15:49:39.518Z"
   },
   {
    "duration": 102,
    "start_time": "2024-03-19T15:49:39.714Z"
   },
   {
    "duration": 200,
    "start_time": "2024-03-19T15:49:39.822Z"
   },
   {
    "duration": 17,
    "start_time": "2024-03-19T15:49:40.024Z"
   },
   {
    "duration": 18,
    "start_time": "2024-03-19T15:49:40.043Z"
   },
   {
    "duration": 19,
    "start_time": "2024-03-19T15:49:40.063Z"
   },
   {
    "duration": 22,
    "start_time": "2024-03-19T15:49:40.083Z"
   },
   {
    "duration": 11,
    "start_time": "2024-03-19T15:49:40.107Z"
   },
   {
    "duration": 4,
    "start_time": "2024-03-19T15:49:40.120Z"
   },
   {
    "duration": 6,
    "start_time": "2024-03-19T15:49:40.125Z"
   },
   {
    "duration": 3126,
    "start_time": "2024-03-19T15:49:40.132Z"
   },
   {
    "duration": 7438,
    "start_time": "2024-03-19T15:50:55.406Z"
   },
   {
    "duration": 1164,
    "start_time": "2024-03-19T15:51:02.847Z"
   },
   {
    "duration": 7,
    "start_time": "2024-03-19T15:51:04.012Z"
   },
   {
    "duration": 195,
    "start_time": "2024-03-19T15:51:04.021Z"
   },
   {
    "duration": 149,
    "start_time": "2024-03-19T15:51:04.218Z"
   },
   {
    "duration": 148,
    "start_time": "2024-03-19T15:51:04.369Z"
   },
   {
    "duration": 10,
    "start_time": "2024-03-19T15:51:04.518Z"
   },
   {
    "duration": 24,
    "start_time": "2024-03-19T15:51:04.530Z"
   },
   {
    "duration": 12,
    "start_time": "2024-03-19T15:51:04.555Z"
   },
   {
    "duration": 1623,
    "start_time": "2024-03-19T15:51:04.569Z"
   },
   {
    "duration": 1718,
    "start_time": "2024-03-19T15:51:06.194Z"
   },
   {
    "duration": 1606,
    "start_time": "2024-03-19T15:51:07.914Z"
   },
   {
    "duration": 378,
    "start_time": "2024-03-19T15:51:09.522Z"
   },
   {
    "duration": 405,
    "start_time": "2024-03-19T15:51:09.903Z"
   },
   {
    "duration": 373,
    "start_time": "2024-03-19T15:51:10.310Z"
   },
   {
    "duration": 1263,
    "start_time": "2024-03-19T15:51:10.685Z"
   },
   {
    "duration": 32,
    "start_time": "2024-03-19T15:51:11.950Z"
   },
   {
    "duration": 3,
    "start_time": "2024-03-19T15:51:11.984Z"
   },
   {
    "duration": 4,
    "start_time": "2024-03-19T15:51:11.989Z"
   },
   {
    "duration": 85,
    "start_time": "2024-03-19T15:51:11.994Z"
   },
   {
    "duration": 36,
    "start_time": "2024-03-19T15:51:12.080Z"
   },
   {
    "duration": 199,
    "start_time": "2024-03-19T15:51:12.117Z"
   },
   {
    "duration": 100,
    "start_time": "2024-03-19T15:51:12.318Z"
   },
   {
    "duration": 195,
    "start_time": "2024-03-19T15:51:12.421Z"
   },
   {
    "duration": 17,
    "start_time": "2024-03-19T15:51:12.617Z"
   },
   {
    "duration": 8,
    "start_time": "2024-03-19T15:51:12.635Z"
   },
   {
    "duration": 3,
    "start_time": "2024-03-19T15:51:12.644Z"
   },
   {
    "duration": 5,
    "start_time": "2024-03-19T15:51:12.648Z"
   },
   {
    "duration": 4,
    "start_time": "2024-03-19T15:51:12.655Z"
   },
   {
    "duration": 4,
    "start_time": "2024-03-19T15:51:12.660Z"
   },
   {
    "duration": 12,
    "start_time": "2024-03-19T15:51:12.665Z"
   },
   {
    "duration": 3175,
    "start_time": "2024-03-19T15:51:12.715Z"
   },
   {
    "duration": 7407,
    "start_time": "2024-03-19T15:52:25.662Z"
   },
   {
    "duration": 1851,
    "start_time": "2024-03-19T15:52:33.071Z"
   },
   {
    "duration": 7,
    "start_time": "2024-03-19T15:52:34.924Z"
   },
   {
    "duration": 236,
    "start_time": "2024-03-19T15:52:34.932Z"
   },
   {
    "duration": 143,
    "start_time": "2024-03-19T15:52:35.170Z"
   },
   {
    "duration": 145,
    "start_time": "2024-03-19T15:52:35.315Z"
   },
   {
    "duration": 10,
    "start_time": "2024-03-19T15:52:35.461Z"
   },
   {
    "duration": 26,
    "start_time": "2024-03-19T15:52:35.472Z"
   },
   {
    "duration": 16,
    "start_time": "2024-03-19T15:52:35.500Z"
   },
   {
    "duration": 1592,
    "start_time": "2024-03-19T15:52:35.518Z"
   },
   {
    "duration": 1770,
    "start_time": "2024-03-19T15:52:37.114Z"
   },
   {
    "duration": 1648,
    "start_time": "2024-03-19T15:52:38.886Z"
   },
   {
    "duration": 384,
    "start_time": "2024-03-19T15:52:40.535Z"
   },
   {
    "duration": 396,
    "start_time": "2024-03-19T15:52:40.921Z"
   },
   {
    "duration": 370,
    "start_time": "2024-03-19T15:52:41.318Z"
   },
   {
    "duration": 1360,
    "start_time": "2024-03-19T15:52:41.689Z"
   },
   {
    "duration": 36,
    "start_time": "2024-03-19T15:52:43.050Z"
   },
   {
    "duration": 4,
    "start_time": "2024-03-19T15:52:43.089Z"
   },
   {
    "duration": 21,
    "start_time": "2024-03-19T15:52:43.094Z"
   },
   {
    "duration": 67,
    "start_time": "2024-03-19T15:52:43.117Z"
   },
   {
    "duration": 34,
    "start_time": "2024-03-19T15:52:43.186Z"
   },
   {
    "duration": 192,
    "start_time": "2024-03-19T15:52:43.223Z"
   },
   {
    "duration": 108,
    "start_time": "2024-03-19T15:52:43.418Z"
   },
   {
    "duration": 188,
    "start_time": "2024-03-19T15:52:43.528Z"
   },
   {
    "duration": 16,
    "start_time": "2024-03-19T15:52:43.718Z"
   },
   {
    "duration": 7,
    "start_time": "2024-03-19T15:52:43.735Z"
   },
   {
    "duration": 3,
    "start_time": "2024-03-19T15:52:43.744Z"
   },
   {
    "duration": 7,
    "start_time": "2024-03-19T15:52:43.748Z"
   },
   {
    "duration": 5,
    "start_time": "2024-03-19T15:52:43.756Z"
   },
   {
    "duration": 4,
    "start_time": "2024-03-19T15:52:43.762Z"
   },
   {
    "duration": 6,
    "start_time": "2024-03-19T15:52:43.767Z"
   },
   {
    "duration": 3132,
    "start_time": "2024-03-19T15:52:43.814Z"
   },
   {
    "duration": 8,
    "start_time": "2024-03-19T15:54:24.561Z"
   },
   {
    "duration": 2514,
    "start_time": "2024-03-19T15:54:25.873Z"
   },
   {
    "duration": 16113,
    "start_time": "2024-03-20T11:25:47.473Z"
   },
   {
    "duration": 1573,
    "start_time": "2024-03-20T11:26:03.588Z"
   },
   {
    "duration": 8,
    "start_time": "2024-03-20T11:26:05.163Z"
   },
   {
    "duration": 600,
    "start_time": "2024-03-20T11:26:05.173Z"
   },
   {
    "duration": 598,
    "start_time": "2024-03-20T11:26:05.775Z"
   },
   {
    "duration": 561,
    "start_time": "2024-03-20T11:26:06.375Z"
   },
   {
    "duration": 11,
    "start_time": "2024-03-20T11:26:06.937Z"
   },
   {
    "duration": 12,
    "start_time": "2024-03-20T11:26:06.950Z"
   },
   {
    "duration": 11,
    "start_time": "2024-03-20T11:26:06.963Z"
   },
   {
    "duration": 2705,
    "start_time": "2024-03-20T11:26:06.978Z"
   },
   {
    "duration": 2056,
    "start_time": "2024-03-20T11:26:09.684Z"
   },
   {
    "duration": 1802,
    "start_time": "2024-03-20T11:26:11.742Z"
   },
   {
    "duration": 431,
    "start_time": "2024-03-20T11:26:13.546Z"
   },
   {
    "duration": 524,
    "start_time": "2024-03-20T11:26:13.979Z"
   },
   {
    "duration": 430,
    "start_time": "2024-03-20T11:26:14.505Z"
   },
   {
    "duration": 1433,
    "start_time": "2024-03-20T11:26:14.937Z"
   },
   {
    "duration": 48,
    "start_time": "2024-03-20T11:26:16.372Z"
   },
   {
    "duration": 20,
    "start_time": "2024-03-20T11:26:16.422Z"
   },
   {
    "duration": 34,
    "start_time": "2024-03-20T11:26:16.443Z"
   },
   {
    "duration": 136,
    "start_time": "2024-03-20T11:26:16.478Z"
   },
   {
    "duration": 18,
    "start_time": "2024-03-20T11:26:16.616Z"
   },
   {
    "duration": 166,
    "start_time": "2024-03-20T11:26:16.636Z"
   },
   {
    "duration": 97,
    "start_time": "2024-03-20T11:26:16.805Z"
   },
   {
    "duration": 114,
    "start_time": "2024-03-20T11:26:16.993Z"
   },
   {
    "duration": 41,
    "start_time": "2024-03-20T11:26:17.109Z"
   },
   {
    "duration": 28,
    "start_time": "2024-03-20T11:26:17.152Z"
   },
   {
    "duration": 22,
    "start_time": "2024-03-20T11:26:17.182Z"
   },
   {
    "duration": 21,
    "start_time": "2024-03-20T11:26:17.208Z"
   },
   {
    "duration": 25,
    "start_time": "2024-03-20T11:26:17.231Z"
   },
   {
    "duration": 16,
    "start_time": "2024-03-20T11:26:17.258Z"
   },
   {
    "duration": 24,
    "start_time": "2024-03-20T11:26:17.276Z"
   },
   {
    "duration": 2977,
    "start_time": "2024-03-20T11:26:17.302Z"
   },
   {
    "duration": 236,
    "start_time": "2024-03-20T11:26:55.760Z"
   },
   {
    "duration": 9033,
    "start_time": "2024-03-20T11:27:13.694Z"
   },
   {
    "duration": 1343,
    "start_time": "2024-03-20T11:27:22.729Z"
   },
   {
    "duration": 9,
    "start_time": "2024-03-20T11:27:24.073Z"
   },
   {
    "duration": 238,
    "start_time": "2024-03-20T11:27:24.084Z"
   },
   {
    "duration": 157,
    "start_time": "2024-03-20T11:27:24.324Z"
   },
   {
    "duration": 159,
    "start_time": "2024-03-20T11:27:24.482Z"
   },
   {
    "duration": 10,
    "start_time": "2024-03-20T11:27:24.643Z"
   },
   {
    "duration": 25,
    "start_time": "2024-03-20T11:27:24.655Z"
   },
   {
    "duration": 45,
    "start_time": "2024-03-20T11:27:24.681Z"
   },
   {
    "duration": 1889,
    "start_time": "2024-03-20T11:27:24.727Z"
   },
   {
    "duration": 1970,
    "start_time": "2024-03-20T11:27:26.618Z"
   },
   {
    "duration": 1726,
    "start_time": "2024-03-20T11:27:28.590Z"
   },
   {
    "duration": 420,
    "start_time": "2024-03-20T11:27:30.318Z"
   },
   {
    "duration": 453,
    "start_time": "2024-03-20T11:27:30.741Z"
   },
   {
    "duration": 423,
    "start_time": "2024-03-20T11:27:31.196Z"
   },
   {
    "duration": 1174,
    "start_time": "2024-03-20T11:27:31.621Z"
   },
   {
    "duration": 41,
    "start_time": "2024-03-20T11:27:32.797Z"
   },
   {
    "duration": 81,
    "start_time": "2024-03-20T11:27:32.839Z"
   },
   {
    "duration": 190,
    "start_time": "2024-03-20T11:27:32.921Z"
   },
   {
    "duration": 191,
    "start_time": "2024-03-20T11:27:33.113Z"
   },
   {
    "duration": 28,
    "start_time": "2024-03-20T11:27:33.306Z"
   },
   {
    "duration": 102,
    "start_time": "2024-03-20T11:27:33.393Z"
   },
   {
    "duration": 203,
    "start_time": "2024-03-20T11:27:33.497Z"
   },
   {
    "duration": 202,
    "start_time": "2024-03-20T11:27:33.702Z"
   },
   {
    "duration": 21,
    "start_time": "2024-03-20T11:27:33.905Z"
   },
   {
    "duration": 76,
    "start_time": "2024-03-20T11:27:33.928Z"
   },
   {
    "duration": 20,
    "start_time": "2024-03-20T11:27:34.006Z"
   },
   {
    "duration": 28,
    "start_time": "2024-03-20T11:27:34.027Z"
   },
   {
    "duration": 15,
    "start_time": "2024-03-20T11:27:34.057Z"
   },
   {
    "duration": 25,
    "start_time": "2024-03-20T11:27:34.073Z"
   },
   {
    "duration": 16,
    "start_time": "2024-03-20T11:27:34.100Z"
   },
   {
    "duration": 2819,
    "start_time": "2024-03-20T11:27:34.117Z"
   },
   {
    "duration": 107,
    "start_time": "2024-03-20T11:39:18.326Z"
   },
   {
    "duration": 99,
    "start_time": "2024-03-20T11:47:32.390Z"
   },
   {
    "duration": 6,
    "start_time": "2024-03-20T12:06:45.014Z"
   },
   {
    "duration": 8348,
    "start_time": "2024-03-20T12:08:20.511Z"
   },
   {
    "duration": 1435,
    "start_time": "2024-03-20T12:08:28.862Z"
   },
   {
    "duration": 9,
    "start_time": "2024-03-20T12:08:30.298Z"
   },
   {
    "duration": 359,
    "start_time": "2024-03-20T12:08:30.309Z"
   },
   {
    "duration": 175,
    "start_time": "2024-03-20T12:08:30.671Z"
   },
   {
    "duration": 177,
    "start_time": "2024-03-20T12:08:30.848Z"
   },
   {
    "duration": 14,
    "start_time": "2024-03-20T12:08:31.027Z"
   },
   {
    "duration": 140,
    "start_time": "2024-03-20T12:08:31.043Z"
   },
   {
    "duration": 265,
    "start_time": "2024-03-20T12:08:31.185Z"
   },
   {
    "duration": 1945,
    "start_time": "2024-03-20T12:08:31.451Z"
   },
   {
    "duration": 2102,
    "start_time": "2024-03-20T12:08:33.398Z"
   },
   {
    "duration": 1798,
    "start_time": "2024-03-20T12:08:35.502Z"
   },
   {
    "duration": 447,
    "start_time": "2024-03-20T12:08:37.301Z"
   },
   {
    "duration": 496,
    "start_time": "2024-03-20T12:08:37.752Z"
   },
   {
    "duration": 463,
    "start_time": "2024-03-20T12:08:38.250Z"
   },
   {
    "duration": 1240,
    "start_time": "2024-03-20T12:08:38.715Z"
   },
   {
    "duration": 55,
    "start_time": "2024-03-20T12:08:39.957Z"
   },
   {
    "duration": 4,
    "start_time": "2024-03-20T12:08:40.014Z"
   },
   {
    "duration": 77,
    "start_time": "2024-03-20T12:08:40.020Z"
   },
   {
    "duration": 11,
    "start_time": "2024-03-20T12:08:40.100Z"
   },
   {
    "duration": 85,
    "start_time": "2024-03-20T12:08:40.113Z"
   },
   {
    "duration": 46,
    "start_time": "2024-03-20T12:08:40.200Z"
   },
   {
    "duration": 128,
    "start_time": "2024-03-20T12:08:40.293Z"
   },
   {
    "duration": 195,
    "start_time": "2024-03-20T12:08:40.424Z"
   },
   {
    "duration": 188,
    "start_time": "2024-03-20T12:08:40.621Z"
   },
   {
    "duration": 19,
    "start_time": "2024-03-20T12:08:40.812Z"
   },
   {
    "duration": 10,
    "start_time": "2024-03-20T12:08:40.833Z"
   },
   {
    "duration": 8,
    "start_time": "2024-03-20T12:08:40.846Z"
   },
   {
    "duration": 42,
    "start_time": "2024-03-20T12:08:40.856Z"
   },
   {
    "duration": 7,
    "start_time": "2024-03-20T12:08:40.900Z"
   },
   {
    "duration": 8,
    "start_time": "2024-03-20T12:08:40.909Z"
   },
   {
    "duration": 8,
    "start_time": "2024-03-20T12:08:40.919Z"
   },
   {
    "duration": 3033,
    "start_time": "2024-03-20T12:08:40.929Z"
   },
   {
    "duration": 4,
    "start_time": "2024-03-20T12:15:02.496Z"
   },
   {
    "duration": 7,
    "start_time": "2024-03-20T12:15:03.623Z"
   },
   {
    "duration": 3610,
    "start_time": "2024-03-20T12:15:06.735Z"
   },
   {
    "duration": 8390,
    "start_time": "2024-03-20T12:15:43.949Z"
   },
   {
    "duration": 1307,
    "start_time": "2024-03-20T12:15:52.342Z"
   },
   {
    "duration": 8,
    "start_time": "2024-03-20T12:15:53.651Z"
   },
   {
    "duration": 193,
    "start_time": "2024-03-20T12:15:53.661Z"
   },
   {
    "duration": 162,
    "start_time": "2024-03-20T12:15:53.856Z"
   },
   {
    "duration": 168,
    "start_time": "2024-03-20T12:15:54.020Z"
   },
   {
    "duration": 11,
    "start_time": "2024-03-20T12:15:54.190Z"
   },
   {
    "duration": 15,
    "start_time": "2024-03-20T12:15:54.203Z"
   },
   {
    "duration": 11,
    "start_time": "2024-03-20T12:15:54.220Z"
   },
   {
    "duration": 1774,
    "start_time": "2024-03-20T12:15:54.234Z"
   },
   {
    "duration": 1973,
    "start_time": "2024-03-20T12:15:56.010Z"
   },
   {
    "duration": 1843,
    "start_time": "2024-03-20T12:15:57.985Z"
   },
   {
    "duration": 446,
    "start_time": "2024-03-20T12:15:59.830Z"
   },
   {
    "duration": 484,
    "start_time": "2024-03-20T12:16:00.278Z"
   },
   {
    "duration": 1534,
    "start_time": "2024-03-20T12:16:00.764Z"
   },
   {
    "duration": 1207,
    "start_time": "2024-03-20T12:16:02.300Z"
   },
   {
    "duration": 41,
    "start_time": "2024-03-20T12:16:03.509Z"
   },
   {
    "duration": 76,
    "start_time": "2024-03-20T12:16:03.552Z"
   },
   {
    "duration": 84,
    "start_time": "2024-03-20T12:16:03.630Z"
   },
   {
    "duration": 67,
    "start_time": "2024-03-20T12:16:03.716Z"
   },
   {
    "duration": 126,
    "start_time": "2024-03-20T12:16:03.785Z"
   },
   {
    "duration": 52,
    "start_time": "2024-03-20T12:16:03.912Z"
   },
   {
    "duration": 158,
    "start_time": "2024-03-20T12:16:03.965Z"
   },
   {
    "duration": 203,
    "start_time": "2024-03-20T12:16:04.125Z"
   },
   {
    "duration": 172,
    "start_time": "2024-03-20T12:16:04.331Z"
   },
   {
    "duration": 18,
    "start_time": "2024-03-20T12:16:04.505Z"
   },
   {
    "duration": 18,
    "start_time": "2024-03-20T12:16:04.525Z"
   },
   {
    "duration": 17,
    "start_time": "2024-03-20T12:16:04.547Z"
   },
   {
    "duration": 35,
    "start_time": "2024-03-20T12:16:04.565Z"
   },
   {
    "duration": 18,
    "start_time": "2024-03-20T12:16:04.601Z"
   },
   {
    "duration": 6,
    "start_time": "2024-03-20T12:16:04.621Z"
   },
   {
    "duration": 22,
    "start_time": "2024-03-20T12:16:04.629Z"
   },
   {
    "duration": 3457,
    "start_time": "2024-03-20T12:16:04.653Z"
   },
   {
    "duration": 4,
    "start_time": "2024-03-20T12:36:43.107Z"
   },
   {
    "duration": 1374,
    "start_time": "2024-03-20T12:36:43.114Z"
   },
   {
    "duration": 8,
    "start_time": "2024-03-20T12:36:44.490Z"
   },
   {
    "duration": 204,
    "start_time": "2024-03-20T12:36:44.500Z"
   },
   {
    "duration": 163,
    "start_time": "2024-03-20T12:36:44.705Z"
   },
   {
    "duration": 169,
    "start_time": "2024-03-20T12:36:44.870Z"
   },
   {
    "duration": 15,
    "start_time": "2024-03-20T12:36:45.040Z"
   },
   {
    "duration": 104,
    "start_time": "2024-03-20T12:36:45.057Z"
   },
   {
    "duration": 190,
    "start_time": "2024-03-20T12:36:45.163Z"
   },
   {
    "duration": 1863,
    "start_time": "2024-03-20T12:36:45.356Z"
   },
   {
    "duration": 2091,
    "start_time": "2024-03-20T12:36:47.221Z"
   },
   {
    "duration": 1813,
    "start_time": "2024-03-20T12:36:49.314Z"
   },
   {
    "duration": 437,
    "start_time": "2024-03-20T12:36:51.129Z"
   },
   {
    "duration": 460,
    "start_time": "2024-03-20T12:36:51.567Z"
   },
   {
    "duration": 446,
    "start_time": "2024-03-20T12:36:52.029Z"
   },
   {
    "duration": 1150,
    "start_time": "2024-03-20T12:36:52.476Z"
   },
   {
    "duration": 42,
    "start_time": "2024-03-20T12:36:53.628Z"
   },
   {
    "duration": 3,
    "start_time": "2024-03-20T12:36:53.672Z"
   },
   {
    "duration": 17,
    "start_time": "2024-03-20T12:36:53.677Z"
   },
   {
    "duration": 14,
    "start_time": "2024-03-20T12:36:53.696Z"
   },
   {
    "duration": 67,
    "start_time": "2024-03-20T12:36:53.712Z"
   },
   {
    "duration": 49,
    "start_time": "2024-03-20T12:36:53.781Z"
   },
   {
    "duration": 188,
    "start_time": "2024-03-20T12:36:53.833Z"
   },
   {
    "duration": 174,
    "start_time": "2024-03-20T12:36:54.023Z"
   },
   {
    "duration": 200,
    "start_time": "2024-03-20T12:36:54.203Z"
   },
   {
    "duration": 24,
    "start_time": "2024-03-20T12:36:54.405Z"
   },
   {
    "duration": 9,
    "start_time": "2024-03-20T12:36:54.431Z"
   },
   {
    "duration": 30,
    "start_time": "2024-03-20T12:36:54.443Z"
   },
   {
    "duration": 14,
    "start_time": "2024-03-20T12:36:54.475Z"
   },
   {
    "duration": 52,
    "start_time": "2024-03-20T12:36:54.491Z"
   },
   {
    "duration": 7,
    "start_time": "2024-03-20T12:36:54.545Z"
   },
   {
    "duration": 24,
    "start_time": "2024-03-20T12:36:54.554Z"
   },
   {
    "duration": 3484,
    "start_time": "2024-03-20T12:36:54.580Z"
   },
   {
    "duration": 4,
    "start_time": "2024-03-20T12:41:43.091Z"
   },
   {
    "duration": 1379,
    "start_time": "2024-03-20T12:41:43.097Z"
   },
   {
    "duration": 9,
    "start_time": "2024-03-20T12:41:44.477Z"
   },
   {
    "duration": 196,
    "start_time": "2024-03-20T12:41:44.488Z"
   },
   {
    "duration": 169,
    "start_time": "2024-03-20T12:41:44.686Z"
   },
   {
    "duration": 169,
    "start_time": "2024-03-20T12:41:44.857Z"
   },
   {
    "duration": 12,
    "start_time": "2024-03-20T12:41:45.028Z"
   },
   {
    "duration": 174,
    "start_time": "2024-03-20T12:41:45.041Z"
   },
   {
    "duration": 216,
    "start_time": "2024-03-20T12:41:45.216Z"
   },
   {
    "duration": 1907,
    "start_time": "2024-03-20T12:41:45.434Z"
   },
   {
    "duration": 2041,
    "start_time": "2024-03-20T12:41:47.343Z"
   },
   {
    "duration": 1835,
    "start_time": "2024-03-20T12:41:49.386Z"
   },
   {
    "duration": 477,
    "start_time": "2024-03-20T12:41:51.222Z"
   },
   {
    "duration": 465,
    "start_time": "2024-03-20T12:41:51.703Z"
   },
   {
    "duration": 446,
    "start_time": "2024-03-20T12:41:52.170Z"
   },
   {
    "duration": 1212,
    "start_time": "2024-03-20T12:41:52.618Z"
   },
   {
    "duration": 44,
    "start_time": "2024-03-20T12:41:53.832Z"
   },
   {
    "duration": 14,
    "start_time": "2024-03-20T12:41:53.878Z"
   },
   {
    "duration": 31,
    "start_time": "2024-03-20T12:41:53.894Z"
   },
   {
    "duration": 29,
    "start_time": "2024-03-20T12:41:53.927Z"
   },
   {
    "duration": 94,
    "start_time": "2024-03-20T12:41:53.958Z"
   },
   {
    "duration": 51,
    "start_time": "2024-03-20T12:41:54.054Z"
   },
   {
    "duration": 127,
    "start_time": "2024-03-20T12:41:54.191Z"
   },
   {
    "duration": 191,
    "start_time": "2024-03-20T12:41:54.321Z"
   },
   {
    "duration": 184,
    "start_time": "2024-03-20T12:41:54.515Z"
   },
   {
    "duration": 24,
    "start_time": "2024-03-20T12:41:54.701Z"
   },
   {
    "duration": 27,
    "start_time": "2024-03-20T12:41:54.727Z"
   },
   {
    "duration": 17,
    "start_time": "2024-03-20T12:41:54.756Z"
   },
   {
    "duration": 46,
    "start_time": "2024-03-20T12:41:54.775Z"
   },
   {
    "duration": 78,
    "start_time": "2024-03-20T12:41:54.823Z"
   },
   {
    "duration": 32,
    "start_time": "2024-03-20T12:41:54.903Z"
   },
   {
    "duration": 68,
    "start_time": "2024-03-20T12:41:54.937Z"
   },
   {
    "duration": 3563,
    "start_time": "2024-03-20T12:41:55.007Z"
   },
   {
    "duration": 6,
    "start_time": "2024-03-20T12:53:29.387Z"
   },
   {
    "duration": 4763,
    "start_time": "2024-03-20T12:53:32.051Z"
   },
   {
    "duration": 5,
    "start_time": "2024-03-20T12:54:33.009Z"
   },
   {
    "duration": 5,
    "start_time": "2024-03-20T12:54:49.808Z"
   },
   {
    "duration": 7,
    "start_time": "2024-03-20T12:58:22.323Z"
   },
   {
    "duration": 2501,
    "start_time": "2024-03-20T12:58:23.795Z"
   },
   {
    "duration": 6,
    "start_time": "2024-03-20T12:58:57.660Z"
   },
   {
    "duration": 3200,
    "start_time": "2024-03-20T12:59:00.793Z"
   },
   {
    "duration": 6,
    "start_time": "2024-03-20T13:04:47.153Z"
   },
   {
    "duration": 136,
    "start_time": "2024-03-20T13:04:49.672Z"
   },
   {
    "duration": 6,
    "start_time": "2024-03-20T13:10:15.648Z"
   },
   {
    "duration": 7,
    "start_time": "2024-03-20T13:10:37.862Z"
   },
   {
    "duration": 20,
    "start_time": "2024-03-20T13:10:40.910Z"
   },
   {
    "duration": 6,
    "start_time": "2024-03-20T13:11:03.014Z"
   },
   {
    "duration": 17,
    "start_time": "2024-03-20T13:11:05.357Z"
   },
   {
    "duration": 6,
    "start_time": "2024-03-20T13:11:21.334Z"
   },
   {
    "duration": 7,
    "start_time": "2024-03-20T13:11:32.165Z"
   },
   {
    "duration": 2531,
    "start_time": "2024-03-20T13:11:34.501Z"
   },
   {
    "duration": 4,
    "start_time": "2024-03-20T13:13:17.373Z"
   },
   {
    "duration": 2211,
    "start_time": "2024-03-20T13:13:17.379Z"
   },
   {
    "duration": 9,
    "start_time": "2024-03-20T13:13:19.592Z"
   },
   {
    "duration": 241,
    "start_time": "2024-03-20T13:13:19.602Z"
   },
   {
    "duration": 172,
    "start_time": "2024-03-20T13:13:19.845Z"
   },
   {
    "duration": 178,
    "start_time": "2024-03-20T13:13:20.019Z"
   },
   {
    "duration": 11,
    "start_time": "2024-03-20T13:13:20.199Z"
   },
   {
    "duration": 15,
    "start_time": "2024-03-20T13:13:20.212Z"
   },
   {
    "duration": 12,
    "start_time": "2024-03-20T13:13:20.228Z"
   },
   {
    "duration": 1783,
    "start_time": "2024-03-20T13:13:20.241Z"
   },
   {
    "duration": 1918,
    "start_time": "2024-03-20T13:13:22.026Z"
   },
   {
    "duration": 1743,
    "start_time": "2024-03-20T13:13:23.945Z"
   },
   {
    "duration": 435,
    "start_time": "2024-03-20T13:13:25.690Z"
   },
   {
    "duration": 458,
    "start_time": "2024-03-20T13:13:26.128Z"
   },
   {
    "duration": 409,
    "start_time": "2024-03-20T13:13:26.588Z"
   },
   {
    "duration": 1195,
    "start_time": "2024-03-20T13:13:26.999Z"
   },
   {
    "duration": 42,
    "start_time": "2024-03-20T13:13:28.196Z"
   },
   {
    "duration": 4,
    "start_time": "2024-03-20T13:13:28.240Z"
   },
   {
    "duration": 37,
    "start_time": "2024-03-20T13:13:28.246Z"
   },
   {
    "duration": 43,
    "start_time": "2024-03-20T13:13:28.285Z"
   },
   {
    "duration": 95,
    "start_time": "2024-03-20T13:13:28.329Z"
   },
   {
    "duration": 73,
    "start_time": "2024-03-20T13:13:28.426Z"
   },
   {
    "duration": 125,
    "start_time": "2024-03-20T13:13:28.502Z"
   },
   {
    "duration": 190,
    "start_time": "2024-03-20T13:13:28.630Z"
   },
   {
    "duration": 177,
    "start_time": "2024-03-20T13:13:28.823Z"
   },
   {
    "duration": 21,
    "start_time": "2024-03-20T13:13:29.001Z"
   },
   {
    "duration": 19,
    "start_time": "2024-03-20T13:13:29.024Z"
   },
   {
    "duration": 16,
    "start_time": "2024-03-20T13:13:29.044Z"
   },
   {
    "duration": 34,
    "start_time": "2024-03-20T13:13:29.062Z"
   },
   {
    "duration": 19,
    "start_time": "2024-03-20T13:13:29.097Z"
   },
   {
    "duration": 20,
    "start_time": "2024-03-20T13:13:29.118Z"
   },
   {
    "duration": 12,
    "start_time": "2024-03-20T13:13:29.140Z"
   },
   {
    "duration": 2558,
    "start_time": "2024-03-20T13:13:29.154Z"
   },
   {
    "duration": 7253,
    "start_time": "2024-03-20T13:13:31.714Z"
   },
   {
    "duration": 5,
    "start_time": "2024-03-20T13:13:38.969Z"
   },
   {
    "duration": 6,
    "start_time": "2024-03-20T13:13:53.816Z"
   },
   {
    "duration": 2832,
    "start_time": "2024-03-20T13:13:55.681Z"
   },
   {
    "duration": 6,
    "start_time": "2024-03-20T13:14:27.824Z"
   },
   {
    "duration": 4,
    "start_time": "2024-03-20T13:15:43.709Z"
   },
   {
    "duration": 3,
    "start_time": "2024-03-20T13:16:00.805Z"
   },
   {
    "duration": 6,
    "start_time": "2024-03-20T13:22:39.337Z"
   },
   {
    "duration": 1362,
    "start_time": "2024-03-20T13:22:50.448Z"
   },
   {
    "duration": 4,
    "start_time": "2024-03-20T13:25:24.588Z"
   },
   {
    "duration": 6,
    "start_time": "2024-03-20T13:25:25.211Z"
   },
   {
    "duration": 1318,
    "start_time": "2024-03-20T13:25:26.587Z"
   },
   {
    "duration": 4,
    "start_time": "2024-03-20T13:26:38.891Z"
   },
   {
    "duration": 5,
    "start_time": "2024-03-20T13:26:40.586Z"
   },
   {
    "duration": 1288,
    "start_time": "2024-03-20T13:26:41.545Z"
   },
   {
    "duration": 5,
    "start_time": "2024-03-20T15:05:45.505Z"
   },
   {
    "duration": 6,
    "start_time": "2024-03-20T15:05:47.136Z"
   },
   {
    "duration": 1333,
    "start_time": "2024-03-20T15:05:48.767Z"
   },
   {
    "duration": 4,
    "start_time": "2024-03-20T15:09:40.592Z"
   },
   {
    "duration": 6,
    "start_time": "2024-03-20T15:09:41.760Z"
   },
   {
    "duration": 2040,
    "start_time": "2024-03-20T15:09:43.064Z"
   },
   {
    "duration": 4,
    "start_time": "2024-03-20T15:10:06.376Z"
   },
   {
    "duration": 6,
    "start_time": "2024-03-20T15:10:07.288Z"
   },
   {
    "duration": 1277,
    "start_time": "2024-03-20T15:10:08.648Z"
   },
   {
    "duration": 4,
    "start_time": "2024-03-20T15:13:23.609Z"
   },
   {
    "duration": 6,
    "start_time": "2024-03-20T15:13:24.498Z"
   },
   {
    "duration": 14,
    "start_time": "2024-03-20T15:13:26.505Z"
   },
   {
    "duration": 4,
    "start_time": "2024-03-20T15:13:42.832Z"
   },
   {
    "duration": 6,
    "start_time": "2024-03-20T15:13:43.624Z"
   },
   {
    "duration": 14,
    "start_time": "2024-03-20T15:13:45.304Z"
   },
   {
    "duration": 4,
    "start_time": "2024-03-20T15:20:09.020Z"
   },
   {
    "duration": 6,
    "start_time": "2024-03-20T15:20:09.860Z"
   },
   {
    "duration": 14,
    "start_time": "2024-03-20T15:20:12.405Z"
   },
   {
    "duration": 4,
    "start_time": "2024-03-20T15:34:01.363Z"
   },
   {
    "duration": 6,
    "start_time": "2024-03-20T15:34:02.035Z"
   },
   {
    "duration": 1622,
    "start_time": "2024-03-20T15:34:03.946Z"
   },
   {
    "duration": 4,
    "start_time": "2024-03-20T15:35:28.513Z"
   },
   {
    "duration": 6,
    "start_time": "2024-03-20T15:35:31.416Z"
   },
   {
    "duration": 1627,
    "start_time": "2024-03-20T15:35:32.816Z"
   },
   {
    "duration": 4,
    "start_time": "2024-03-20T15:37:26.765Z"
   },
   {
    "duration": 5,
    "start_time": "2024-03-20T15:37:28.005Z"
   },
   {
    "duration": 1737,
    "start_time": "2024-03-20T15:37:29.020Z"
   },
   {
    "duration": 4,
    "start_time": "2024-03-20T15:38:43.999Z"
   },
   {
    "duration": 1376,
    "start_time": "2024-03-20T15:38:44.006Z"
   },
   {
    "duration": 8,
    "start_time": "2024-03-20T15:38:45.384Z"
   },
   {
    "duration": 231,
    "start_time": "2024-03-20T15:38:45.394Z"
   },
   {
    "duration": 159,
    "start_time": "2024-03-20T15:38:45.628Z"
   },
   {
    "duration": 163,
    "start_time": "2024-03-20T15:38:45.789Z"
   },
   {
    "duration": 11,
    "start_time": "2024-03-20T15:38:45.954Z"
   },
   {
    "duration": 26,
    "start_time": "2024-03-20T15:38:45.967Z"
   },
   {
    "duration": 12,
    "start_time": "2024-03-20T15:38:45.994Z"
   },
   {
    "duration": 1792,
    "start_time": "2024-03-20T15:38:46.007Z"
   },
   {
    "duration": 1983,
    "start_time": "2024-03-20T15:38:47.801Z"
   },
   {
    "duration": 1742,
    "start_time": "2024-03-20T15:38:49.786Z"
   },
   {
    "duration": 433,
    "start_time": "2024-03-20T15:38:51.529Z"
   },
   {
    "duration": 461,
    "start_time": "2024-03-20T15:38:51.966Z"
   },
   {
    "duration": 415,
    "start_time": "2024-03-20T15:38:52.429Z"
   },
   {
    "duration": 1140,
    "start_time": "2024-03-20T15:38:52.846Z"
   },
   {
    "duration": 43,
    "start_time": "2024-03-20T15:38:53.998Z"
   },
   {
    "duration": 4,
    "start_time": "2024-03-20T15:38:54.042Z"
   },
   {
    "duration": 10,
    "start_time": "2024-03-20T15:38:54.048Z"
   },
   {
    "duration": 9,
    "start_time": "2024-03-20T15:38:54.060Z"
   },
   {
    "duration": 1710,
    "start_time": "2024-03-20T15:38:54.070Z"
   },
   {
    "duration": 0,
    "start_time": "2024-03-20T15:38:55.781Z"
   },
   {
    "duration": 0,
    "start_time": "2024-03-20T15:38:55.782Z"
   },
   {
    "duration": 0,
    "start_time": "2024-03-20T15:38:55.783Z"
   },
   {
    "duration": 0,
    "start_time": "2024-03-20T15:38:55.785Z"
   },
   {
    "duration": 0,
    "start_time": "2024-03-20T15:38:55.787Z"
   },
   {
    "duration": 0,
    "start_time": "2024-03-20T15:38:55.788Z"
   },
   {
    "duration": 0,
    "start_time": "2024-03-20T15:38:55.789Z"
   },
   {
    "duration": 0,
    "start_time": "2024-03-20T15:38:55.790Z"
   },
   {
    "duration": 0,
    "start_time": "2024-03-20T15:38:55.792Z"
   },
   {
    "duration": 0,
    "start_time": "2024-03-20T15:38:55.793Z"
   },
   {
    "duration": 0,
    "start_time": "2024-03-20T15:38:55.794Z"
   },
   {
    "duration": 0,
    "start_time": "2024-03-20T15:38:55.795Z"
   },
   {
    "duration": 14,
    "start_time": "2024-03-20T15:39:32.650Z"
   },
   {
    "duration": 44,
    "start_time": "2024-03-20T15:40:27.968Z"
   },
   {
    "duration": 26,
    "start_time": "2024-03-20T15:40:45.847Z"
   },
   {
    "duration": 23,
    "start_time": "2024-03-20T15:40:46.927Z"
   },
   {
    "duration": 24,
    "start_time": "2024-03-20T15:40:48.250Z"
   },
   {
    "duration": 11,
    "start_time": "2024-03-20T15:40:50.150Z"
   },
   {
    "duration": 27,
    "start_time": "2024-03-20T15:40:59.991Z"
   },
   {
    "duration": 12,
    "start_time": "2024-03-20T15:41:03.230Z"
   },
   {
    "duration": 24,
    "start_time": "2024-03-20T15:41:25.589Z"
   },
   {
    "duration": 26,
    "start_time": "2024-03-20T15:41:26.245Z"
   },
   {
    "duration": 25,
    "start_time": "2024-03-20T15:41:26.877Z"
   },
   {
    "duration": 21,
    "start_time": "2024-03-20T15:41:28.758Z"
   },
   {
    "duration": 22,
    "start_time": "2024-03-20T15:41:36.054Z"
   },
   {
    "duration": 10,
    "start_time": "2024-03-20T15:41:47.564Z"
   },
   {
    "duration": 3,
    "start_time": "2024-03-20T15:41:48.965Z"
   },
   {
    "duration": 4,
    "start_time": "2024-03-20T15:41:51.157Z"
   },
   {
    "duration": 3,
    "start_time": "2024-03-20T15:41:52.213Z"
   },
   {
    "duration": 3,
    "start_time": "2024-03-20T15:41:53.517Z"
   },
   {
    "duration": 5,
    "start_time": "2024-03-20T15:41:54.677Z"
   },
   {
    "duration": 1697,
    "start_time": "2024-03-20T15:41:56.084Z"
   },
   {
    "duration": 3,
    "start_time": "2024-03-20T15:42:31.103Z"
   },
   {
    "duration": 1633,
    "start_time": "2024-03-20T15:42:31.108Z"
   },
   {
    "duration": 7,
    "start_time": "2024-03-20T15:42:32.743Z"
   },
   {
    "duration": 201,
    "start_time": "2024-03-20T15:42:32.751Z"
   },
   {
    "duration": 159,
    "start_time": "2024-03-20T15:42:32.955Z"
   },
   {
    "duration": 166,
    "start_time": "2024-03-20T15:42:33.116Z"
   },
   {
    "duration": 13,
    "start_time": "2024-03-20T15:42:33.283Z"
   },
   {
    "duration": 11,
    "start_time": "2024-03-20T15:42:33.297Z"
   },
   {
    "duration": 11,
    "start_time": "2024-03-20T15:42:33.310Z"
   },
   {
    "duration": 1788,
    "start_time": "2024-03-20T15:42:33.323Z"
   },
   {
    "duration": 1939,
    "start_time": "2024-03-20T15:42:35.113Z"
   },
   {
    "duration": 1746,
    "start_time": "2024-03-20T15:42:37.054Z"
   },
   {
    "duration": 429,
    "start_time": "2024-03-20T15:42:38.802Z"
   },
   {
    "duration": 455,
    "start_time": "2024-03-20T15:42:39.234Z"
   },
   {
    "duration": 497,
    "start_time": "2024-03-20T15:42:39.692Z"
   },
   {
    "duration": 1220,
    "start_time": "2024-03-20T15:42:40.191Z"
   },
   {
    "duration": 43,
    "start_time": "2024-03-20T15:42:41.413Z"
   },
   {
    "duration": 4,
    "start_time": "2024-03-20T15:42:41.457Z"
   },
   {
    "duration": 13,
    "start_time": "2024-03-20T15:42:41.463Z"
   },
   {
    "duration": 5,
    "start_time": "2024-03-20T15:42:41.491Z"
   },
   {
    "duration": 97,
    "start_time": "2024-03-20T15:42:41.497Z"
   },
   {
    "duration": 124,
    "start_time": "2024-03-20T15:42:41.596Z"
   },
   {
    "duration": 185,
    "start_time": "2024-03-20T15:42:41.723Z"
   },
   {
    "duration": 194,
    "start_time": "2024-03-20T15:42:41.911Z"
   },
   {
    "duration": 18,
    "start_time": "2024-03-20T15:42:42.107Z"
   },
   {
    "duration": 12,
    "start_time": "2024-03-20T15:42:42.126Z"
   },
   {
    "duration": 5,
    "start_time": "2024-03-20T15:42:42.140Z"
   },
   {
    "duration": 12,
    "start_time": "2024-03-20T15:42:42.147Z"
   },
   {
    "duration": 34,
    "start_time": "2024-03-20T15:42:42.161Z"
   },
   {
    "duration": 24,
    "start_time": "2024-03-20T15:42:42.197Z"
   },
   {
    "duration": 22,
    "start_time": "2024-03-20T15:42:42.224Z"
   },
   {
    "duration": 5193,
    "start_time": "2024-03-20T15:42:42.248Z"
   },
   {
    "duration": 3,
    "start_time": "2024-03-20T15:43:24.098Z"
   },
   {
    "duration": 6,
    "start_time": "2024-03-20T15:43:25.387Z"
   },
   {
    "duration": 2810,
    "start_time": "2024-03-20T15:43:27.853Z"
   },
   {
    "duration": 6,
    "start_time": "2024-03-20T15:47:43.179Z"
   },
   {
    "duration": 3048,
    "start_time": "2024-03-20T15:47:45.993Z"
   },
   {
    "duration": 3087,
    "start_time": "2024-03-20T15:48:50.568Z"
   },
   {
    "duration": 3610,
    "start_time": "2024-03-20T15:52:07.299Z"
   },
   {
    "duration": 2292,
    "start_time": "2024-03-20T15:52:15.604Z"
   },
   {
    "duration": 2211,
    "start_time": "2024-03-20T15:52:30.858Z"
   },
   {
    "duration": 2424,
    "start_time": "2024-03-20T15:53:06.793Z"
   },
   {
    "duration": 118,
    "start_time": "2024-03-20T15:53:35.328Z"
   },
   {
    "duration": 122,
    "start_time": "2024-03-20T15:54:39.359Z"
   },
   {
    "duration": 2141,
    "start_time": "2024-03-20T15:55:43.356Z"
   },
   {
    "duration": 2194,
    "start_time": "2024-03-20T15:56:11.284Z"
   },
   {
    "duration": 2268,
    "start_time": "2024-03-20T15:56:54.667Z"
   },
   {
    "duration": 3,
    "start_time": "2024-03-20T15:57:33.783Z"
   },
   {
    "duration": 1359,
    "start_time": "2024-03-20T15:57:33.788Z"
   },
   {
    "duration": 8,
    "start_time": "2024-03-20T15:57:35.148Z"
   },
   {
    "duration": 207,
    "start_time": "2024-03-20T15:57:35.158Z"
   },
   {
    "duration": 167,
    "start_time": "2024-03-20T15:57:35.368Z"
   },
   {
    "duration": 167,
    "start_time": "2024-03-20T15:57:35.537Z"
   },
   {
    "duration": 12,
    "start_time": "2024-03-20T15:57:35.707Z"
   },
   {
    "duration": 12,
    "start_time": "2024-03-20T15:57:35.720Z"
   },
   {
    "duration": 12,
    "start_time": "2024-03-20T15:57:35.733Z"
   },
   {
    "duration": 1750,
    "start_time": "2024-03-20T15:57:35.746Z"
   },
   {
    "duration": 1938,
    "start_time": "2024-03-20T15:57:37.498Z"
   },
   {
    "duration": 1743,
    "start_time": "2024-03-20T15:57:39.438Z"
   },
   {
    "duration": 433,
    "start_time": "2024-03-20T15:57:41.182Z"
   },
   {
    "duration": 449,
    "start_time": "2024-03-20T15:57:41.619Z"
   },
   {
    "duration": 435,
    "start_time": "2024-03-20T15:57:42.071Z"
   },
   {
    "duration": 1171,
    "start_time": "2024-03-20T15:57:42.508Z"
   },
   {
    "duration": 46,
    "start_time": "2024-03-20T15:57:43.681Z"
   },
   {
    "duration": 4,
    "start_time": "2024-03-20T15:57:43.729Z"
   },
   {
    "duration": 20,
    "start_time": "2024-03-20T15:57:43.735Z"
   },
   {
    "duration": 9,
    "start_time": "2024-03-20T15:57:43.757Z"
   },
   {
    "duration": 52,
    "start_time": "2024-03-20T15:57:43.768Z"
   },
   {
    "duration": 192,
    "start_time": "2024-03-20T15:57:43.823Z"
   },
   {
    "duration": 197,
    "start_time": "2024-03-20T15:57:44.017Z"
   },
   {
    "duration": 186,
    "start_time": "2024-03-20T15:57:44.217Z"
   },
   {
    "duration": 18,
    "start_time": "2024-03-20T15:57:44.404Z"
   },
   {
    "duration": 9,
    "start_time": "2024-03-20T15:57:44.423Z"
   },
   {
    "duration": 5,
    "start_time": "2024-03-20T15:57:44.433Z"
   },
   {
    "duration": 8,
    "start_time": "2024-03-20T15:57:44.440Z"
   },
   {
    "duration": 9,
    "start_time": "2024-03-20T15:57:44.450Z"
   },
   {
    "duration": 31,
    "start_time": "2024-03-20T15:57:44.461Z"
   },
   {
    "duration": 7,
    "start_time": "2024-03-20T15:57:44.493Z"
   },
   {
    "duration": 2231,
    "start_time": "2024-03-20T15:57:44.501Z"
   },
   {
    "duration": 3,
    "start_time": "2024-03-20T18:04:13.945Z"
   },
   {
    "duration": 1405,
    "start_time": "2024-03-20T18:04:13.950Z"
   },
   {
    "duration": 9,
    "start_time": "2024-03-20T18:04:15.357Z"
   },
   {
    "duration": 269,
    "start_time": "2024-03-20T18:04:15.367Z"
   },
   {
    "duration": 161,
    "start_time": "2024-03-20T18:04:15.638Z"
   },
   {
    "duration": 162,
    "start_time": "2024-03-20T18:04:15.801Z"
   },
   {
    "duration": 12,
    "start_time": "2024-03-20T18:04:15.964Z"
   },
   {
    "duration": 53,
    "start_time": "2024-03-20T18:04:15.993Z"
   },
   {
    "duration": 14,
    "start_time": "2024-03-20T18:04:16.048Z"
   },
   {
    "duration": 1867,
    "start_time": "2024-03-20T18:04:16.064Z"
   },
   {
    "duration": 1982,
    "start_time": "2024-03-20T18:04:17.933Z"
   },
   {
    "duration": 1832,
    "start_time": "2024-03-20T18:04:19.917Z"
   },
   {
    "duration": 498,
    "start_time": "2024-03-20T18:04:21.751Z"
   },
   {
    "duration": 471,
    "start_time": "2024-03-20T18:04:22.252Z"
   },
   {
    "duration": 415,
    "start_time": "2024-03-20T18:04:22.725Z"
   },
   {
    "duration": 1168,
    "start_time": "2024-03-20T18:04:23.141Z"
   },
   {
    "duration": 40,
    "start_time": "2024-03-20T18:04:24.311Z"
   },
   {
    "duration": 4,
    "start_time": "2024-03-20T18:04:24.353Z"
   },
   {
    "duration": 15,
    "start_time": "2024-03-20T18:04:24.359Z"
   },
   {
    "duration": 8,
    "start_time": "2024-03-20T18:04:24.391Z"
   },
   {
    "duration": 54,
    "start_time": "2024-03-20T18:04:24.400Z"
   },
   {
    "duration": 151,
    "start_time": "2024-03-20T18:04:24.456Z"
   },
   {
    "duration": 205,
    "start_time": "2024-03-20T18:04:24.610Z"
   },
   {
    "duration": 180,
    "start_time": "2024-03-20T18:04:24.818Z"
   },
   {
    "duration": 19,
    "start_time": "2024-03-20T18:04:25.000Z"
   },
   {
    "duration": 34,
    "start_time": "2024-03-20T18:04:25.020Z"
   },
   {
    "duration": 21,
    "start_time": "2024-03-20T18:04:25.055Z"
   },
   {
    "duration": 26,
    "start_time": "2024-03-20T18:04:25.078Z"
   },
   {
    "duration": 38,
    "start_time": "2024-03-20T18:04:25.106Z"
   },
   {
    "duration": 43,
    "start_time": "2024-03-20T18:04:25.145Z"
   },
   {
    "duration": 9,
    "start_time": "2024-03-20T18:04:25.190Z"
   },
   {
    "duration": 2273,
    "start_time": "2024-03-20T18:04:25.201Z"
   },
   {
    "duration": 2218,
    "start_time": "2024-03-20T19:53:54.473Z"
   },
   {
    "duration": 2588,
    "start_time": "2024-03-20T19:54:07.873Z"
   },
   {
    "duration": 3223,
    "start_time": "2024-03-20T19:54:17.224Z"
   },
   {
    "duration": 3,
    "start_time": "2024-03-20T19:57:19.724Z"
   },
   {
    "duration": 1339,
    "start_time": "2024-03-20T19:57:19.729Z"
   },
   {
    "duration": 8,
    "start_time": "2024-03-20T19:57:21.069Z"
   },
   {
    "duration": 206,
    "start_time": "2024-03-20T19:57:21.078Z"
   },
   {
    "duration": 167,
    "start_time": "2024-03-20T19:57:21.286Z"
   },
   {
    "duration": 169,
    "start_time": "2024-03-20T19:57:21.455Z"
   },
   {
    "duration": 12,
    "start_time": "2024-03-20T19:57:21.626Z"
   },
   {
    "duration": 30,
    "start_time": "2024-03-20T19:57:21.639Z"
   },
   {
    "duration": 22,
    "start_time": "2024-03-20T19:57:21.671Z"
   },
   {
    "duration": 1761,
    "start_time": "2024-03-20T19:57:21.695Z"
   },
   {
    "duration": 1873,
    "start_time": "2024-03-20T19:57:23.458Z"
   },
   {
    "duration": 1756,
    "start_time": "2024-03-20T19:57:25.332Z"
   },
   {
    "duration": 409,
    "start_time": "2024-03-20T19:57:27.089Z"
   },
   {
    "duration": 452,
    "start_time": "2024-03-20T19:57:27.501Z"
   },
   {
    "duration": 421,
    "start_time": "2024-03-20T19:57:27.955Z"
   },
   {
    "duration": 1115,
    "start_time": "2024-03-20T19:57:28.377Z"
   },
   {
    "duration": 41,
    "start_time": "2024-03-20T19:57:29.493Z"
   },
   {
    "duration": 4,
    "start_time": "2024-03-20T19:57:29.536Z"
   },
   {
    "duration": 24,
    "start_time": "2024-03-20T19:57:29.541Z"
   },
   {
    "duration": 21,
    "start_time": "2024-03-20T19:57:29.567Z"
   },
   {
    "duration": 64,
    "start_time": "2024-03-20T19:57:29.590Z"
   },
   {
    "duration": 235,
    "start_time": "2024-03-20T19:57:29.657Z"
   },
   {
    "duration": 198,
    "start_time": "2024-03-20T19:57:29.894Z"
   },
   {
    "duration": 111,
    "start_time": "2024-03-20T19:57:30.095Z"
   },
   {
    "duration": 212,
    "start_time": "2024-03-20T19:57:30.208Z"
   },
   {
    "duration": 173,
    "start_time": "2024-03-20T19:57:30.421Z"
   },
   {
    "duration": 105,
    "start_time": "2024-03-20T19:57:30.595Z"
   },
   {
    "duration": 117,
    "start_time": "2024-03-20T19:57:30.702Z"
   },
   {
    "duration": 122,
    "start_time": "2024-03-20T19:57:30.821Z"
   },
   {
    "duration": 79,
    "start_time": "2024-03-20T19:57:30.945Z"
   },
   {
    "duration": 106,
    "start_time": "2024-03-20T19:57:31.026Z"
   },
   {
    "duration": 3200,
    "start_time": "2024-03-20T19:57:31.134Z"
   }
  ],
  "kernelspec": {
   "display_name": "Python 3 (ipykernel)",
   "language": "python",
   "name": "python3"
  },
  "language_info": {
   "codemirror_mode": {
    "name": "ipython",
    "version": 3
   },
   "file_extension": ".py",
   "mimetype": "text/x-python",
   "name": "python",
   "nbconvert_exporter": "python",
   "pygments_lexer": "ipython3",
   "version": "3.11.5"
  },
  "toc": {
   "base_numbering": 1,
   "nav_menu": {},
   "number_sections": true,
   "sideBar": true,
   "skip_h1_title": true,
   "title_cell": "Table of Contents",
   "title_sidebar": "Contents",
   "toc_cell": false,
   "toc_position": {
    "height": "calc(100% - 180px)",
    "left": "10px",
    "top": "150px",
    "width": "381.766px"
   },
   "toc_section_display": true,
   "toc_window_display": true
  }
 },
 "nbformat": 4,
 "nbformat_minor": 4
}
